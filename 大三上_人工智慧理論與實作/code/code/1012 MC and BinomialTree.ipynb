{
 "cells": [
  {
   "cell_type": "markdown",
   "metadata": {},
   "source": [
    "# greek letter"
   ]
  },
  {
   "cell_type": "markdown",
   "metadata": {},
   "source": [
    "* delta d-call/d-stock call相對stock的變化率 正相關 \n",
    "* gamma d-delta/d-stock \n",
    "* vega d-call/d-violation 波動率越高者價值越高 \n",
    "* theta d-call/d-time 時間越長time value越高 \n",
    "* rho d-call/d-interest rate\n"
   ]
  },
  {
   "cell_type": "markdown",
   "metadata": {},
   "source": [
    "# delta hedge"
   ]
  },
  {
   "cell_type": "markdown",
   "metadata": {},
   "source": [
    "if 擁有20 stock <br>\n",
    "delta=10<br>\n",
    "要賣20/10=2 call\n"
   ]
  },
  {
   "cell_type": "markdown",
   "metadata": {},
   "source": [
    "# Monte Carol"
   ]
  },
  {
   "cell_type": "markdown",
   "metadata": {},
   "source": [
    "t=T/N<br>\n",
    "S0->S0+t->S0+2t->...->ST 推無數次<br>\n",
    "然後得到ST的distribution<br>\n",
    "然後求期望值"
   ]
  },
  {
   "cell_type": "code",
   "execution_count": 2,
   "metadata": {},
   "outputs": [
    {
     "data": {
      "text/plain": [
       "[<matplotlib.lines.Line2D at 0x1de687a7610>]"
      ]
     },
     "execution_count": 2,
     "metadata": {},
     "output_type": "execute_result"
    },
    {
     "data": {
      "image/png": "[encoded data removed]",
      "text/plain": [
       "<Figure size 432x288 with 1 Axes>"
      ]
     },
     "metadata": {
      "needs_background": "light"
     },
     "output_type": "display_data"
    }
   ],
   "source": [
    "import numpy as np\n",
    "import math\n",
    "import matplotlib.pyplot as plt\n",
    "\n",
    "def MCsim(S,T,r,vol,N):\n",
    "    dt = T/N\n",
    "    St = np.zeros((N+1))\n",
    "    St[0]=S\n",
    "    for i in range (N):\n",
    "        St[i+1]=St[i]*math.exp((r-0.5*vol*vol)*dt+vol*np.random.normal()*math.sqrt(dt))\n",
    "    return St\n",
    "S = 50\n",
    "K = 40\n",
    "r = 0.08\n",
    "T = 2\n",
    "vol = 0.2\n",
    "Sa = MCsim(S,T,r,vol,100)\n",
    "plt.plot(Sa)\n"
   ]
  },
  {
   "cell_type": "code",
   "execution_count": 3,
   "metadata": {},
   "outputs": [
    {
     "name": "stdout",
     "output_type": "stream",
     "text": [
      "16.33113020806278\n"
     ]
    }
   ],
   "source": [
    "def MCcall(S,T,r,vol,K,N,M):\n",
    "    c=0\n",
    "    S_all = np.zeros((M,N+1))\n",
    "    for m in range(M):\n",
    "        Sa= MCsim(S,T,r,vol,100)\n",
    "        S_all[m][:]=Sa\n",
    "        if(Sa[-1]>K):\n",
    "            c+=(Sa[-1]-K) #高於履約價才有效\n",
    "    #plt.plot(S_all.T)\n",
    "    return c/M*math.exp(-r*T) #期望值折現\n",
    "S = 50\n",
    "K = 40\n",
    "r = 0.08\n",
    "T = 2\n",
    "vol = 0.2\n",
    "N=100\n",
    "M=10000\n",
    "print(MCcall(S,T,r,vol,K,N,M))"
   ]
  },
  {
   "cell_type": "markdown",
   "metadata": {},
   "source": [
    "# Binomial Model "
   ]
  },
  {
   "cell_type": "markdown",
   "metadata": {},
   "source": [
    "每一步都有漲跌<br>\n",
    "先漲再跌跟先跌再漲一樣"
   ]
  },
  {
   "cell_type": "code",
   "execution_count": 5,
   "metadata": {},
   "outputs": [
    {
     "data": {
      "text/plain": [
       "16.380141010477193"
      ]
     },
     "execution_count": 5,
     "metadata": {},
     "output_type": "execute_result"
    }
   ],
   "source": [
    "def BinTreeCall(S,T,r,vol,K,N):\n",
    "    dt = T/N\n",
    "    u = math.exp(vol*math.sqrt(dt))\n",
    "    d = math.exp(-vol*math.sqrt(dt))\n",
    "    p = (math.exp(r*dt)-d)/(u-d)\n",
    "    price = np.zeros((N+1,N+1))\n",
    "    price[0][0]=S\n",
    "    prob = np.zeros((N+1,N+1))\n",
    "    prob[0][0]=1\n",
    "    c=0\n",
    "    for R in range(1,N+1):\n",
    "        price[0][R]=price[0][R-1]*u\n",
    "        prob[0][R]=prob[0][R-1]*p\n",
    "        for C in range(1,R):\n",
    "            price[C][R]=price[C-1][R-1]*d\n",
    "            prob[C][R]=prob[C-1][R-1]*(1-p)+prob[C][R-1]*p\n",
    "        prob[R][R]=prob[R-1][R-1]*(1-p)\n",
    "    for R in range(N+1):\n",
    "        if(price[R][N]>K):\n",
    "            c+=(price[R][N]-K)*prob[R][N]\n",
    "    return c*math.exp(-r*T)\n",
    "S = 50\n",
    "K = 40\n",
    "r = 0.08\n",
    "T = 2\n",
    "vol = 0.2\n",
    "N=100\n",
    "BinTreeCall(S,T,r,vol,K,N)"
   ]
  },
  {
   "cell_type": "code",
   "execution_count": null,
   "metadata": {},
   "outputs": [],
   "source": []
  }
 ],
 "metadata": {
  "kernelspec": {
   "display_name": "Python 3",
   "language": "python",
   "name": "python3"
  },
  "language_info": {
   "codemirror_mode": {
    "name": "ipython",
    "version": 3
   },
   "file_extension": ".py",
   "mimetype": "text/x-python",
   "name": "python",
   "nbconvert_exporter": "python",
   "pygments_lexer": "ipython3",
   "version": "3.8.5"
  }
 },
 "nbformat": 4,
 "nbformat_minor": 2
}
