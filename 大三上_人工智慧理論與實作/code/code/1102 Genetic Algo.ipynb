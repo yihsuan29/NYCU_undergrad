{
 "cells": [
  {
   "cell_type": "code",
   "execution_count": 18,
   "metadata": {},
   "outputs": [],
   "source": [
    "import numpy as np\n",
    "def F1(t):\n",
    "    return 0.063*(t**3)-5.284*(t**2)+4.887*t+412+np.random.normal(0,1)"
   ]
  },
  {
   "cell_type": "markdown",
   "metadata": {},
   "source": [
    "# Ax=b"
   ]
  },
  {
   "cell_type": "code",
   "execution_count": 19,
   "metadata": {},
   "outputs": [
    {
     "name": "stdout",
     "output_type": "stream",
     "text": [
      "[[-3.94621938e-12]\n",
      " [ 6.30000079e-02]\n",
      " [-5.28400485e+00]\n",
      " [ 4.88803759e+00]\n",
      " [ 4.11867553e+02]]\n"
     ]
    },
    {
     "name": "stderr",
     "output_type": "stream",
     "text": [
      "C:\\ProgramData\\Anaconda3\\lib\\site-packages\\ipykernel_launcher.py:10: FutureWarning: `rcond` parameter will change to the default of machine precision times ``max(M, N)`` where M and N are the input matrix dimensions.\n",
      "To use the future default and silence this warning we advise to pass `rcond=None`, to keep using the old, explicitly pass `rcond=-1`.\n",
      "  # Remove the CWD from sys.path while we load stuff.\n"
     ]
    }
   ],
   "source": [
    "A=np.zeros((1000,5))\n",
    "b=np.zeros((1000,1))\n",
    "for t in range(0,1000):\n",
    "    b[t] = F1(t)\n",
    "    A[t,0] = t**4\n",
    "    A[t,1] = t**3\n",
    "    A[t,2] = t**2\n",
    "    A[t,3] = t\n",
    "    A[t,4] = 1\n",
    "x=np.linalg.lstsq(A,b)[0]\n",
    "print(x)"
   ]
  },
  {
   "cell_type": "markdown",
   "metadata": {},
   "source": [
    "# non linear\n",
    "有t 跟F2(t) 求ABCD<br>\n",
    "但是呢 沒法用linear<br>"
   ]
  },
  {
   "cell_type": "code",
   "execution_count": 20,
   "metadata": {},
   "outputs": [],
   "source": [
    "def F2(t,A,B,C,D):\n",
    "    return A*(t**B)+C*np.cos(D*t)+np.random.normal(0,1,t.shape)"
   ]
  },
  {
   "cell_type": "code",
   "execution_count": 30,
   "metadata": {},
   "outputs": [],
   "source": [
    "T=np.random.random((1000,1))*100  #隨機生成T\n",
    "b2=  F2(T,0.6,1.2,100,-0.4)      #正解"
   ]
  },
  {
   "cell_type": "markdown",
   "metadata": {},
   "source": [
    "# GA\n",
    "每個有10個基因<br>\n",
    "pool中必有正解<br>\n",
    "你要找出來\n",
    "\n",
    "先亂數產10000<br>\n",
    "算energy= 誤差<br>\n"
   ]
  },
  {
   "cell_type": "code",
   "execution_count": 31,
   "metadata": {},
   "outputs": [],
   "source": [
    "def gene2coef(gene):\n",
    "    A = (np.sum(2**np.arange(10)*gene[0:10])-511)/100\n",
    "                #2**長度為9vecto #長度為9gene\n",
    "    #二進制轉十進制 512 ~-511\n",
    "    B = (np.sum(2**np.arange(10)*gene[10:20])-511)/100\n",
    "    C = (np.sum(2**np.arange(10)*gene[20:30])-511)\n",
    "    D = (np.sum(2**np.arange(10)*gene[30:40])-511)/100\n",
    "    return A,B,C,D"
   ]
  },
  {
   "cell_type": "markdown",
   "metadata": {},
   "source": [
    "# GA\n",
    "窮舉很難 2\\*40 <br>\n",
    "原始10000人 殺掉剩一定比例<br>\n",
    "交配產生後代 有些會突變 反覆30次<br>\n",
    "有機會產生出正解"
   ]
  },
  {
   "cell_type": "code",
   "execution_count": 42,
   "metadata": {},
   "outputs": [],
   "source": [
    "N=10000\n",
    "G=30\n",
    "survive_rate = 0.05 #只有5%活下\n",
    "mutation_rate = 0.001 #突變率 (大:增加嘗試 小:穩定 爸媽好小孩普遍好)\n",
    "survive= round(N*survive_rate)\n",
    "mutation = round(N*40*mutation_rate) #每人有40基因"
   ]
  },
  {
   "cell_type": "code",
   "execution_count": 43,
   "metadata": {},
   "outputs": [],
   "source": [
    "pop = np.random.randint(0,2,(N,40))\n",
    "#原始人 N*40個亂數產的0/1\n",
    "fit = np.zeros((N,1))"
   ]
  },
  {
   "cell_type": "code",
   "execution_count": null,
   "metadata": {},
   "outputs": [],
   "source": [
    "for generation in range(G):\n",
    "    print(generation)\n",
    "    #先算這10000人有多適合活在這個世界上 越小越好!!\n",
    "    for i in range(N):\n",
    "        A,B,C,D=gene2coef(pop[i,:])\n",
    "        fit[i]=np.mean(abs(F2(T,A,B,C,D)-b2))\n",
    "    #殺人\n",
    "    sort_fit=np.argsort(fit[:,0]) #排序 小的在前\n",
    "                        #取index\n",
    "    pop=pop[sort_fit,:]\n",
    "    for i in range(survive,N):\n",
    "        dad_id=np.random.randint(0,survive)\n",
    "        mom_id=np.random.randint(0,survive)\n",
    "        #父母不可以自體繁殖\n",
    "        while(dad_id==mom_id):\n",
    "            mom_id=np.random.randint(0,survive)\n",
    "        #基因砟傳\n",
    "        mask = np.random.randint(0,2,[1,40])\n",
    "        son = pop[mom_id,:].copy()\n",
    "        dad = pop[dad_id,:]\n",
    "        son[mask[0,:]==1] = dad[mask[0,:]==1]\n",
    "        pop[i,:]=son\n",
    "    #突變\n",
    "    for i in range(mutation):\n",
    "        #挑人\n",
    "        m=np.random.randint(survive,N)\n",
    "        #挑基因\n",
    "        n=np.random.randint(0,40)\n",
    "        #基因突變 0>1  1>0\n",
    "        pop[m,n]=1-pop[m,n]\n",
    "for i in range(N):\n",
    "        A,B,C,D=gene2coef(pop[i,:])\n",
    "        fit[i]=np.mean(abs(F2(T,A,B,C,D)-b2))\n",
    "sort_fit=np.argsort(fit[:,0])\n",
    "pop=pop[sort_fit,:]\n",
    "#最最最近的答案\n",
    "A,B,C,D=gene2coef(pop[0,:])"
   ]
  },
  {
   "cell_type": "code",
   "execution_count": 45,
   "metadata": {},
   "outputs": [
    {
     "data": {
      "text/plain": [
       "(0.6, 1.2, 100, -0.4)"
      ]
     },
     "execution_count": 45,
     "metadata": {},
     "output_type": "execute_result"
    }
   ],
   "source": [
    "A,B,C,D"
   ]
  },
  {
   "cell_type": "code",
   "execution_count": null,
   "metadata": {},
   "outputs": [],
   "source": []
  }
 ],
 "metadata": {
  "kernelspec": {
   "display_name": "Python 3",
   "language": "python",
   "name": "python3"
  },
  "language_info": {
   "codemirror_mode": {
    "name": "ipython",
    "version": 3
   },
   "file_extension": ".py",
   "mimetype": "text/x-python",
   "name": "python",
   "nbconvert_exporter": "python",
   "pygments_lexer": "ipython3",
   "version": "3.8.5"
  }
 },
 "nbformat": 4,
 "nbformat_minor": 2
}
