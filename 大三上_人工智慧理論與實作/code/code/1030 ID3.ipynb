{
 "cells": [
  {
   "cell_type": "code",
   "execution_count": 1,
   "metadata": {},
   "outputs": [],
   "source": [
    "import math\n",
    "def entropy(p1,n1):\n",
    "    if(p1==0 and n1==0):\n",
    "        return 1\n",
    "    elif(p1==0 or n1==0):\n",
    "        return 0\n",
    "    else:\n",
    "        pp=p1/(p1+n1)\n",
    "        np=n1/(p1+n1)\n",
    "        return -pp*math.log2(pp)-np*math.log2(np)\n",
    "# print(entropy(29,35))   "
   ]
  },
  {
   "cell_type": "code",
   "execution_count": 2,
   "metadata": {},
   "outputs": [],
   "source": [
    "def IG(p1,n1,p2,n2):\n",
    "    num1 = p1+n1\n",
    "    num2 = p2+n2\n",
    "    num=num1+num2\n",
    "    return entropy(p1+p2,n1+n2)-num1/num*entropy(p1,n1)-num2/num*entropy(p2,n2)\n",
    "#print(IG(21,5,8,30))\n",
    "#print(IG(18,33,11,2))"
   ]
  },
  {
   "cell_type": "code",
   "execution_count": 3,
   "metadata": {},
   "outputs": [],
   "source": [
    "def ID3DTtrain(feature,target):\n",
    "    node = dict()\n",
    "    node['data']=range(len(target))        #data為編號 \n",
    "    tree = []\n",
    "    tree.append(node)                      #root=node\n",
    "    t=0\n",
    "    while(t<len(tree)):                    #編號t要生節點嗎\n",
    "        idx = tree[t]['data']\n",
    "        if(sum(target[idx])==0):           #全部的target皆為0\n",
    "            tree[t]['leaf']=1                #走到底了\n",
    "            tree[t]['decision']=0            #以後走到這就是0\n",
    "        elif(sum(target[idx])==len(idx)):  #全部target都是1\n",
    "            tree[t]['leaf']=1\n",
    "            tree[t]['decision']=1            #以後走到這都是1\n",
    "        else:                              #沒切乾淨要再多切幾刀 \n",
    "            bestIG=0\n",
    "            for i in range(feature.shape[1]):  #對每個feature都看一下\n",
    "                pool = list(set(feature[idx,i]))  #看看編號idx的node裡的data 它們的feature i都長啥樣\n",
    "                pool.sort()\n",
    "                for j in range (len(pool)-1):\n",
    "                    thres = (pool[j]+pool[j+1])/2 #區分j和j+1的中間值 e.g. 1 7 9 > 4 6(共n-1)\n",
    "                    G1=[]\n",
    "                    G2=[]\n",
    "                    for k in idx:\n",
    "                        if(feature[k][i]<thres):  #如果小於thres分到group1\n",
    "                            G1.append(k)\n",
    "                        else:                     #不是的話就分到 group2\n",
    "                            G2.append(k)\n",
    "                    p1=sum(target[G1]==1)\n",
    "                    n1=sum(target[G1]==0)\n",
    "                    p2=sum(target[G2]==1)\n",
    "                    n2=sum(target[G2]==0)\n",
    "                    thisIG=IG(p1,n1,p2,n2)\n",
    "                    if(thisIG>bestIG):     #把這個切法記起來\n",
    "                        bestIG=thisIG\n",
    "                        bestG1=G1\n",
    "                        bestG2=G2\n",
    "                        bestthres=thres\n",
    "                        bestf = i         #記起來最好的切分的feature是誰\n",
    "            if(bestIG>0):   #如果切分更細有幫助的話\n",
    "                tree[t]['leaf']=0\n",
    "                tree[t]['selectf']=bestf\n",
    "                tree[t]['threshold']=bestthres\n",
    "                tree[t]['child']=[len(tree),len(tree)+1]\n",
    "                node=dict()\n",
    "                node['data']=bestG1  #小於切分值得放右邊\n",
    "                tree.append(node)\n",
    "                node=dict()\n",
    "                node['data']=bestG2  #大於的那群放到左邊\n",
    "                tree.append(node)\n",
    "            else:      #多切無益 姑且挑個比較好的值\n",
    "                tree[t]['leaf']=1    #走到底了\n",
    "                if(sum(target[idx]==1)>sum(target[idx]==0)):  #因為1比0多\n",
    "                    tree[t]['decision']=1    #就讓他當1吧\n",
    "                else:\n",
    "                    tree[t]['decision']=0\n",
    "        t+=1\n",
    "    return tree\n",
    "                        "
   ]
  },
  {
   "cell_type": "code",
   "execution_count": 4,
   "metadata": {},
   "outputs": [],
   "source": [
    "from sklearn import datasets\n",
    "data = datasets.load_iris()\n",
    "feature = data['data']\n",
    "target = data['target']\n",
    "T=ID3DTtrain(feature[0:100,:],target[0:100])"
   ]
  },
  {
   "cell_type": "code",
   "execution_count": 5,
   "metadata": {},
   "outputs": [],
   "source": [
    "T=ID3DTtrain(feature[50:150,:],target[50:150]-1)"
   ]
  },
  {
   "cell_type": "code",
   "execution_count": null,
   "metadata": {},
   "outputs": [],
   "source": []
  }
 ],
 "metadata": {
  "kernelspec": {
   "display_name": "Python 3",
   "language": "python",
   "name": "python3"
  },
  "language_info": {
   "codemirror_mode": {
    "name": "ipython",
    "version": 3
   },
   "file_extension": ".py",
   "mimetype": "text/x-python",
   "name": "python",
   "nbconvert_exporter": "python",
   "pygments_lexer": "ipython3",
   "version": "3.8.5"
  }
 },
 "nbformat": 4,
 "nbformat_minor": 4
}
