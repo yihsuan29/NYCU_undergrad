{
 "cells": [
  {
   "cell_type": "code",
   "execution_count": 1,
   "metadata": {},
   "outputs": [],
   "source": [
    "import numpy as np\n",
    "from PIL import Image\n",
    "\n",
    "img = Image.open('photo.jpg')\n",
    "I=np.asarray(img).copy()"
   ]
  },
  {
   "cell_type": "code",
   "execution_count": 2,
   "metadata": {},
   "outputs": [
    {
     "data": {
      "text/plain": [
       "array([[[77, 80, 85],\n",
       "        [77, 80, 85],\n",
       "        [77, 80, 85],\n",
       "        ...,\n",
       "        [67, 70, 75],\n",
       "        [68, 71, 76],\n",
       "        [66, 69, 74]],\n",
       "\n",
       "       [[77, 80, 85],\n",
       "        [77, 80, 85],\n",
       "        [77, 80, 85],\n",
       "        ...,\n",
       "        [67, 70, 75],\n",
       "        [66, 69, 74],\n",
       "        [66, 69, 74]],\n",
       "\n",
       "       [[77, 80, 85],\n",
       "        [77, 80, 85],\n",
       "        [77, 80, 85],\n",
       "        ...,\n",
       "        [66, 69, 74],\n",
       "        [65, 68, 73],\n",
       "        [63, 66, 71]],\n",
       "\n",
       "       ...,\n",
       "\n",
       "       [[71, 74, 79],\n",
       "        [71, 74, 79],\n",
       "        [71, 74, 79],\n",
       "        ...,\n",
       "        [66, 74, 77],\n",
       "        [66, 74, 77],\n",
       "        [71, 74, 79]],\n",
       "\n",
       "       [[69, 72, 77],\n",
       "        [70, 73, 78],\n",
       "        [70, 73, 78],\n",
       "        ...,\n",
       "        [68, 73, 77],\n",
       "        [68, 73, 77],\n",
       "        [70, 73, 78]],\n",
       "\n",
       "       [[70, 73, 78],\n",
       "        [70, 73, 78],\n",
       "        [72, 75, 80],\n",
       "        ...,\n",
       "        [68, 73, 77],\n",
       "        [68, 73, 77],\n",
       "        [68, 72, 75]]], dtype=uint8)"
      ]
     },
     "execution_count": 2,
     "metadata": {},
     "output_type": "execute_result"
    }
   ],
   "source": [
    "I"
   ]
  },
  {
   "cell_type": "code",
   "execution_count": 3,
   "metadata": {},
   "outputs": [],
   "source": [
    "I2 = 255-I\n",
    "img2 = Image.fromarray(I2)\n",
    "img2.show()"
   ]
  },
  {
   "cell_type": "code",
   "execution_count": 8,
   "metadata": {},
   "outputs": [],
   "source": [
    "R=I[:,:,0].astype('float')\n",
    "G=I[:,:,1].astype('float')\n",
    "B=I[:,:,2].astype('float')"
   ]
  },
  {
   "cell_type": "code",
   "execution_count": 9,
   "metadata": {},
   "outputs": [],
   "source": [
    "from scipy import signal"
   ]
  },
  {
   "cell_type": "code",
   "execution_count": 10,
   "metadata": {},
   "outputs": [],
   "source": [
    "data = ((R+G+B)/3).astype('uint8')"
   ]
  },
  {
   "cell_type": "code",
   "execution_count": 11,
   "metadata": {},
   "outputs": [],
   "source": [
    "mask1=np.array([[1/9,1/9,1/9],[1/9,1/9,1/9],[1/9,1/9,1/9]])"
   ]
  },
  {
   "cell_type": "code",
   "execution_count": 12,
   "metadata": {},
   "outputs": [],
   "source": [
    "data1=signal.convolve2d(data,mask1,boundary='symm',mode='same')\n",
    "img1=Image.fromarray(data1)\n",
    "img1.show()"
   ]
  },
  {
   "cell_type": "code",
   "execution_count": 13,
   "metadata": {},
   "outputs": [],
   "source": [
    "mask2=np.array([[0.1,0.1,0.1,0.1,0.1,0.1,0.1,0.1,0.1]])"
   ]
  },
  {
   "cell_type": "code",
   "execution_count": 14,
   "metadata": {},
   "outputs": [],
   "source": [
    "data2=signal.convolve2d(data,mask2,boundary='symm',mode='same')\n",
    "img2=Image.fromarray(data2)\n",
    "img2.show()"
   ]
  },
  {
   "cell_type": "markdown",
   "metadata": {},
   "source": [
    "# sobel 邊緣偵測(高頻)"
   ]
  },
  {
   "cell_type": "code",
   "execution_count": 15,
   "metadata": {},
   "outputs": [],
   "source": [
    "Sx = np.array([[-1,0,1],[-2,0,2],[-1,0,1]])\n",
    "Sy = np.array([[-1,2,-1],[0,0,0],[1,2,1]])"
   ]
  },
  {
   "cell_type": "code",
   "execution_count": 16,
   "metadata": {},
   "outputs": [],
   "source": [
    "Ix=signal.convolve2d(data,Sx,boundary='symm',mode='same')\n",
    "Iy=signal.convolve2d(data,Sy,boundary='symm',mode='same')"
   ]
  },
  {
   "cell_type": "code",
   "execution_count": 17,
   "metadata": {},
   "outputs": [],
   "source": [
    "data3 = (Ix**2)+(Iy**2)\n",
    "data3_ID=np.sort(data3.reshape((-1,1))[:,0])\n",
    "threshold = data3_ID[int(len(data3_ID)*0.526)]\n"
   ]
  },
  {
   "cell_type": "code",
   "execution_count": 18,
   "metadata": {},
   "outputs": [],
   "source": [
    "(w,h)=img.size\n",
    "data4 = np.zeros((h,w)).astype('uint8')\n",
    "data4[data3<threshold]=255\n",
    "img4 = Image.fromarray(data4)\n",
    "img4.show()\n"
   ]
  },
  {
   "cell_type": "markdown",
   "metadata": {},
   "source": [
    "|p|　|h11  h12  h13||x|<br>\n",
    "|q| = |h21  h22  h23||y|<br>\n",
    "|m|　|h31  h32  1 ||1|<br>"
   ]
  },
  {
   "cell_type": "markdown",
   "metadata": {},
   "source": [
    "p= x * h11 + y * h12 + h13<br>\n",
    "m= x * h31 + y * h32 + 1 <br>\n",
    "q= x * h21 + y * h22 + h23"
   ]
  },
  {
   "cell_type": "markdown",
   "metadata": {},
   "source": [
    "p'=p/m<br>\n",
    "q'=q/m<br>"
   ]
  },
  {
   "cell_type": "markdown",
   "metadata": {},
   "source": [
    "p'(x * h31 + y * h32 + 1) = x * h11 + y * h12 + h13<br>\n",
    "p'= x * h11 + y * h12 + h13 -  p'* x * h31 + p'* y * h32<br>\n",
    "q'(x * h31 + y * h32 + 1) = x * h21 + y * h22 + h23<br>\n",
    "q'= x * h21 + y * h22 + h23 -  q'* x * h31 + q'* y * h32"
   ]
  },
  {
   "cell_type": "markdown",
   "metadata": {},
   "source": [
    "|x,y,1,0,0,0,-p'x,-p'y||h11|<br>\n",
    "|　　　　　　　　||h12|<br>\n",
    "|　　　　　　　　||h13|<br>\n",
    "|　　　　　　　　||h21|<br>\n",
    "|　　　　　　　　||h22|=8|p'|<br>\n",
    "|　　　　　　　　||h23|　|q'|<br>\n",
    "|　　　　　　　　||h31|<br>\n",
    "|　　　　　　　　||h32|"
   ]
  },
  {
   "cell_type": "code",
   "execution_count": null,
   "metadata": {},
   "outputs": [],
   "source": []
  }
 ],
 "metadata": {
  "kernelspec": {
   "display_name": "Python 3",
   "language": "python",
   "name": "python3"
  },
  "language_info": {
   "codemirror_mode": {
    "name": "ipython",
    "version": 3
   },
   "file_extension": ".py",
   "mimetype": "text/x-python",
   "name": "python",
   "nbconvert_exporter": "python",
   "pygments_lexer": "ipython3",
   "version": "3.8.5"
  }
 },
 "nbformat": 4,
 "nbformat_minor": 4
}
