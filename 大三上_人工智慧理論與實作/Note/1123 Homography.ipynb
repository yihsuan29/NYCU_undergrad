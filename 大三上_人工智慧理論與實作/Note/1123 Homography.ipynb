{
 "cells": [
  {
   "cell_type": "code",
   "execution_count": 3,
   "metadata": {},
   "outputs": [],
   "source": [
    "from PIL import Image\n",
    "import numpy as np\n",
    "from scipy import signal"
   ]
  },
  {
   "cell_type": "code",
   "execution_count": 4,
   "metadata": {},
   "outputs": [],
   "source": [
    "img = Image.open('photo.jpg')\n",
    "I = np.asarray(img).copy() #把img轉成array\n",
    "I2 = 255-I #反轉色彩\n",
    "img2 = Image.fromarray(I2)\n",
    "img2.show()"
   ]
  },
  {
   "cell_type": "code",
   "execution_count": 5,
   "metadata": {},
   "outputs": [],
   "source": [
    "#低頻濾波: 平滑整個圖片\n",
    "img = Image.open('photo.jpg')\n",
    "(w,h) = img.size\n",
    "img = img.resize((w//10,h//10)) # 縮小\n",
    "I = np.asarray(img).copy() #把img轉成array\n",
    "R = I[:,:,0].astype('float') #unsigned int(只能加減)轉float\n",
    "G = I[:,:,1].astype('float')\n",
    "B = I[:,:,2].astype('float')\n",
    "data = ((R+G+B)/3).astype('uint8') #轉灰階\n",
    "mask = np.array([[1/9,1/9,1/9], #每個人都是周圍(加自己)9個人的平均\n",
    "                 [1/9,1/9,1/9],\n",
    "                 [1/9,1/9,1/9]]) \n",
    "mask2 = np.array([[0.1,0.1,0.1,0.1,0.1,0.1,0.1,0.1,0.1,0.1]]) # 只對row平均\n",
    "data2 = signal.convolve2d(data,mask2,boundary='symm',mode='same') # symm=邊界的會拿另一邊(鏡像的)補，mode為產出的跟原本的大小\n",
    "img = Image.fromarray(data)\n",
    "img2 = Image.fromarray(data2)\n",
    "img.show()\n",
    "img2.show()"
   ]
  },
  {
   "cell_type": "code",
   "execution_count": 6,
   "metadata": {},
   "outputs": [],
   "source": [
    "# 高頻濾波: 留附近差最多(變化劇烈)的地方\n",
    "img = Image.open('photo.jpg')\n",
    "(w,h) = img.size\n",
    "#img = img.resize((w//10,h//10)) # 縮小\n",
    "I = np.asarray(img).copy() #把img轉成array\n",
    "R = I[:,:,0].astype('float') #unsigned int(只能加減)轉float\n",
    "G = I[:,:,1].astype('float')\n",
    "B = I[:,:,2].astype('float')\n",
    "data = ((R+G+B)/3).astype('uint8') #轉灰階(再轉成影像格式=uint8)\n",
    "Sx = np.array([[-1,0,1], #x方向的mask(抓x方向變化最劇烈的)\n",
    "               [-2,0,2],\n",
    "               [-1,0,1]])\n",
    "Sy = np.array([[-1,-2,-1], #y方向的mask(抓y方向變化最劇烈的)\n",
    "               [ 0, 0, 0],\n",
    "               [ 1, 2, 1]])\n",
    "Ix = signal.convolve2d(data,Sx,boundary='symm',mode='same')\n",
    "Iy = signal.convolve2d(data,Sy,boundary='symm',mode='same') \n",
    "data2 = (Ix**2)+(Iy**2) #兩邊平方相加(直/橫/斜都處理好了)\n",
    "data2_1D = np.sort(data2.reshape((-1,1))[:,0]) #轉1D array後sort(為了拿到threshold)\n",
    "threshold = data2_1D[int(len(data2_1D)*0.8)] #以80%的那個值為threshold\n",
    "data3 = np.zeros((h,w)).astype('uint8')\n",
    "data3[data2<threshold]=255\n",
    "img2 = Image.fromarray(data3)\n",
    "img2.show()"
   ]
  },
  {
   "cell_type": "markdown",
   "metadata": {},
   "source": [
    "已知$x,y$(原本圖片的座標)，$p,q$(新圖片要貼的座標)，$z=$dummy variable(要把它消掉) <br>\n",
    "$\\begin{bmatrix}pz\\\\qz\\\\z\\end{bmatrix} = \\begin{bmatrix}h_{11}&h_{12}&h_{13}\\\\h_{21}&h_{22}&h_{23}\\\\h_{31}&h_{32}&1\\end{bmatrix}\\begin{bmatrix}x\\\\y\\\\1\\end{bmatrix}$ <br>\n",
    "$xh_{11}+yh_{12}+h_{13}=pz$ <br>\n",
    "$xh_{21}+yh_{22}+h_{23}=qz$ <br>\n",
    "$xh_{31}+yh_{32}+1=z$ <br>\n",
    "$p=\\frac{xh_{11}+yh_{12}+h_{13}}{xh_{31}+yh_{32}+1}$ <br> \n",
    "$xh_{11}+yh_{12}+h_{13}-pxh_{31}-pyh_{32}=p$ <br>\n",
    "$q=\\frac{xh_{21}+yh_{22}+h_{23}}{xh_{31}+yh_{32}+1}$ <br> \n",
    "$xh_{21}+yh_{22}+h_{23}-qxh_{31}-qyh_{32}=q$ <br>\n",
    "$\\begin{bmatrix}\n",
    "    x & y & 1 & 0 & 0 & 0 & -px & -py\\\\\n",
    "    0 & 0 & 0 & x & y & 1 & -qx & -qy\\\\\n",
    "    \\vdots & \\vdots & \\vdots & \\vdots & \\vdots & \\vdots & \\vdots & \\vdots\\\\\n",
    "\\end{bmatrix}\\begin{bmatrix}h_{11}\\\\\\vdots\\\\h_{32}\\end{bmatrix}=\\begin{bmatrix}p\\\\q\\\\\\vdots\\end{bmatrix}$ <br>\n",
    "總共8列(4組座標)=會有4組(x,y)和(p,q)，可解$h_{11}$~$h_{32}$ <br>\n",
    "$\\begin{bmatrix}\n",
    "    x_1 & y_1 & 1 & 0 & 0 & 0 & -p_1x_1 & -p_1y_1\\\\\n",
    "    0 & 0 & 0 & x_1 & y_1 & 1 & -q_1x_1 & -q_1y_1\\\\\n",
    "    \\vdots & \\vdots & \\vdots & \\vdots & \\vdots & \\vdots & \\vdots & \\vdots\\\\\n",
    "\\end{bmatrix}\\begin{bmatrix}h_{11}\\\\\\vdots\\\\h_{32}\\end{bmatrix}=\\begin{bmatrix}p_1\\\\q_1\\\\\\vdots\\end{bmatrix}$ <br>"
   ]
  },
  {
   "cell_type": "markdown",
   "metadata": {},
   "source": [
    "原始照片 -> 要合成的照片的四角 <br>\n",
    "159,56 -> 0, 0 <br>\n",
    "388,81 -> 2048, 0 <br>\n",
    "159, 396 -> 0, 3080 <br>\n",
    "387, 380 -> 2048, 3080 <br>"
   ]
  },
  {
   "cell_type": "code",
   "execution_count": 21,
   "metadata": {},
   "outputs": [
    {
     "name": "stdout",
     "output_type": "stream",
     "text": [
      "[[ 7.96588398e-01 -7.26784952e-13 -1.26657555e+02]\n",
      " [-6.62893289e-02  6.07210252e-01 -2.34637708e+01]\n",
      " [-4.84947303e-04 -1.34626762e-05  1.00000000e+00]]\n"
     ]
    }
   ],
   "source": [
    "x1, y1 = 159, 56\n",
    "x2, y2 = 388, 81\n",
    "x3, y3 = 159, 396\n",
    "x4, y4 = 387, 380\n",
    "\n",
    "I = Image.open('photo2.jpg')\n",
    "data = np.asarray(I)\n",
    "\n",
    "p1, q1 = 0, 0\n",
    "p2, q2 = data.shape[0], 0\n",
    "p3, q3 = 0, data.shape[1]\n",
    "p4, q4 = data.shape[0], data.shape[1]\n",
    "\n",
    "A = np.zeros((8,8))\n",
    "b = np.zeros((8,1))\n",
    "A[0, :] = [x1, y1, 1, 0, 0, 0, -p1*x1, -p1*y1]\n",
    "A[1, :] = [x2, y2, 1, 0, 0, 0, -p2*x2, -p2*y2]\n",
    "A[2, :] = [x3, y3, 1, 0, 0, 0, -p3*x3, -p3*y3]\n",
    "A[3, :] = [x4, y4, 1, 0, 0, 0, -p4*x4, -p4*y4]\n",
    "A[4, :] = [0, 0, 0, x1, y1, 1, -q1*x1, -q1*y1]\n",
    "A[5, :] = [0, 0, 0, x2, y2, 1, -q2*x2, -q2*y2]\n",
    "A[6, :] = [0, 0, 0, x3, y3, 1, -q3*x3, -q3*y3]\n",
    "A[7, :] = [0, 0, 0, x4, y4, 1, -q4*x4, -q4*y4]\n",
    "b[:, 0] = [p1, p2, p3, p4, q1, q2, q3, q4]\n",
    "\n",
    "x = np.linalg.lstsq(A,b,rcond=None)[0] #就是上面那坨\n",
    "\n",
    "H = np.zeros((3,3)) #h_11到h_32和1\n",
    "H[0, 0] = x[0]\n",
    "H[0, 1] = x[1]\n",
    "H[0, 2] = x[2]\n",
    "H[1, 0] = x[3]\n",
    "H[1, 1] = x[4]\n",
    "H[1, 2] = x[5]\n",
    "H[2, 0] = x[6]\n",
    "H[2, 1] = x[7]\n",
    "H[2, 2] = 1\n",
    "\n",
    "print(H)\n",
    "\n",
    "BG = Image.open('BG.jpg')\n",
    "BG_data = np.asarray(BG).copy()\n",
    "I = Image.open('photo2.jpg')\n",
    "data = np.asarray(I)\n",
    "[BGH,BGW,t] = BG_data.shape\n",
    "[IH,IW,t] = data.shape\n",
    "xy1 = np.ones((3,1))\n",
    "pq1 = np.ones((3,1))\n",
    "for h in range(BGH):\n",
    "    for w in range(BGH):\n",
    "        xy1[0] = w\n",
    "        xy1[1] = h\n",
    "        pq1 = np.dot(H,xy1)\n",
    "        p = int(pq1[0][0]/pq1[2][0])\n",
    "        q = int(pq1[1][0]/pq1[2][0])\n",
    "        if(p>=0 and p<IW and q>=0 and q<IH):\n",
    "            BG_data[h,w,:] = data[q,p,:]\n",
    "I2 = Image.fromarray(BG_data)\n",
    "I2.show()\n",
    "I2.save('109705003_陳以瑄_HW5.jpg')"
   ]
  },
  {
   "cell_type": "code",
   "execution_count": null,
   "metadata": {},
   "outputs": [],
   "source": []
  }
 ],
 "metadata": {
  "kernelspec": {
   "display_name": "Python 3",
   "language": "python",
   "name": "python3"
  },
  "language_info": {
   "codemirror_mode": {
    "name": "ipython",
    "version": 3
   },
   "file_extension": ".py",
   "mimetype": "text/x-python",
   "name": "python",
   "nbconvert_exporter": "python",
   "pygments_lexer": "ipython3",
   "version": "3.8.5"
  }
 },
 "nbformat": 4,
 "nbformat_minor": 4
}
