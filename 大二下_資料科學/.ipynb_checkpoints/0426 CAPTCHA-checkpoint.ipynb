{
 "cells": [
  {
   "cell_type": "markdown",
   "metadata": {},
   "source": [
    "# CAPTCHA\n",
    "先把圖弄成灰階\n",
    "然後用non local means 來denoise\n",
    "用thrshold去把圖變成純黑白 (binarized image)"
   ]
  },
  {
   "cell_type": "code",
   "execution_count": 1,
   "metadata": {},
   "outputs": [],
   "source": [
    "import cv2\n",
    "img=cv2.imread('d:/RPHF.jpg')\n",
    "gray = cv2.cvtColor(img,cv2.COLOR_BGR2GRAY)\n",
    "denoise = cv2.fastNlMeansDenoising(gray,h=50)\n",
    "gaus=cv2.GaussianBlur(gray,(5,5),0)\n",
    "ret,thresh = cv2.threshold(denoise,127,255,cv2.THRESH_BINARY_INV)\n",
    "\n",
    "cv2.imshow('1',img)\n",
    "cv2.imshow('2',gaus)\n",
    "cv2.imshow('3',denoise)\n",
    "cv2.imshow('4',thresh)\n",
    "cv2.waitKey(0)\n",
    "cv2.destroyAllWindows()"
   ]
  },
  {
   "cell_type": "code",
   "execution_count": 4,
   "metadata": {},
   "outputs": [
    {
     "name": "stdout",
     "output_type": "stream",
     "text": [
      "coefficient: [ 0.         -0.36341859  0.00166089]\n",
      "y-intersect: 27.693279993891665\n"
     ]
    },
    {
     "data": {
      "image/png": "[encoded data removed]",
      "text/plain": [
       "<Figure size 432x288 with 1 Axes>"
      ]
     },
     "metadata": {
      "needs_background": "light"
     },
     "output_type": "display_data"
    }
   ],
   "source": [
    "import cv2\n",
    "import numpy as np\n",
    "from sklearn.preprocessing import PolynomialFeatures\n",
    "from sklearn.linear_model import LinearRegression\n",
    "import matplotlib.pyplot as plt\n",
    "def rm_regression(img,border):\n",
    "    gray = cv2.cvtColor(img,cv2.COLOR_BGR2GRAY)    #先把圖弄成灰階\n",
    "    denoise = cv2.fastNlMeansDenoising(gray,h=50)  #然後用non local means 來denoise\n",
    "    ret,thres = cv2.threshold(denoise,127,255,cv2.THRESH_BINARY_INV) #用thrshold去把圖變成純黑白 (binarized image)\n",
    "    thres= cv2.bitwise_not(thres) #黑白互換\n",
    "    #存圖的寬高\n",
    "    width = thres.shape[1]\n",
    "    height = thres.shape[0]\n",
    "    ori = thres.copy()\n",
    "    #把不重要的遮起來\n",
    "    thres[:,border:width-border]=0\n",
    "    thres[height*3//5:height,0:width//2]=0\n",
    "    thres[height*1//4:height,width//2:width]=0\n",
    "    \n",
    "    border_data=np.where(thres==255)    #取得白點的座標\n",
    "    Y_label = border_data[0]            #把座標存起來\n",
    "    samples=Y_label.shape[0]            #有多少資料\n",
    "    X=border_data[1].reshape(samples,1)\n",
    "    regs = LinearRegression()           #一個可以幫你做linear regression 的 machine\n",
    "    feature = PolynomialFeatures(degree=2)\n",
    "    X_input = feature.fit_transform(X)\n",
    "    regs.fit(X_input,Y_label)           #得到這條線的公式\n",
    "    print('coefficient:',regs.coef_)\n",
    "    print('y-intersect:',regs.intercept_)\n",
    "    #預測線線\n",
    "    newX = np.array([i for i in range(width)])\n",
    "    newX = newX.reshape(newX.shape[0],1)\n",
    "    newX_input = feature.fit_transform(newX)\n",
    "    newY = regs.predict(newX_input)\n",
    "    #在plot畫出來\n",
    "    plt.ylim(bottom=0,top=height)\n",
    "    plt.scatter(X,height-Y_label,color='blue',s=1)\n",
    "    plt.scatter(newX,height-newY,color='red',s=1)\n",
    "    plt.show()\n",
    "    #創造有這條線的圖\n",
    "    img_cuv=np.zeros_like(ori)\n",
    "    newY = newY.round(0)\n",
    "    for point in np.column_stack([newY,newX]):\n",
    "        py=int(point[0])\n",
    "        px=int(point[1])\n",
    "        w=4\n",
    "        img_cuv[py-w:py+w,px]=255  \n",
    "    cv2.imshow('1',img_cuv)\n",
    "    cv2.imshow('2',ori)\n",
    "    #把這條圖刪掉\n",
    "    diff = cv2.absdiff(ori,img_cuv)\n",
    "    denoise = cv2.fastNlMeansDenoising(diff,h=80)\n",
    "    \n",
    "    return denoise\n",
    "img=cv2.imread('d:/RPHF.jpg')            #讀圖\n",
    "result_img=rm_regression(img,border=9)   #把那條奇怪的線線移除\n",
    "cv2.imshow('2',result_img)\n",
    "#cv2.imshow('1',img)\n",
    "cv2.waitKey(0)\n",
    "cv2.destroyAllWindows()"
   ]
  },
  {
   "cell_type": "code",
   "execution_count": 31,
   "metadata": {},
   "outputs": [
    {
     "name": "stdout",
     "output_type": "stream",
     "text": [
      "coefficient: [ 0.00000000e+00  2.18865162e-01 -1.57910598e-03  2.70413854e-06]\n",
      "y-intersect: 90.34818086576567\n"
     ]
    },
    {
     "data": {
      "image/png": "[encoded data removed]",
      "text/plain": [
       "<Figure size 432x288 with 1 Axes>"
      ]
     },
     "metadata": {
      "needs_background": "light"
     },
     "output_type": "display_data"
    }
   ],
   "source": [
    "import cv2\n",
    "import numpy as np\n",
    "from sklearn.preprocessing import PolynomialFeatures\n",
    "from sklearn.linear_model import LinearRegression\n",
    "import matplotlib.pyplot as plt\n",
    "def rm_regression(img,leftborder,rightborder,degree):\n",
    "    gray = cv2.cvtColor(img,cv2.COLOR_BGR2GRAY)\n",
    "    denoise = cv2.fastNlMeansDenoising(gray,h=50)\n",
    "    ret,thres = cv2.threshold(denoise,127,255,cv2.THRESH_BINARY_INV)\n",
    "    width = thres.shape[1]\n",
    "    height = thres.shape[0]\n",
    "    ori = thres.copy()\n",
    "    thres[0:80,0:width]=0\n",
    "    thres[122:height,0:width]=0\n",
    "    thres[:,0:43]=0\n",
    "    thres[:,47:76]=0\n",
    "    thres[:,85:107]=0\n",
    "    thres[:,114:206]=0\n",
    "    thres[:,215:282]=0\n",
    "    thres[:,286:317]=0\n",
    "    thres[:,322:351]=0\n",
    "    thres[:,357:381]=0\n",
    "    thres[:,384:width]=0\n",
    "    border_data=np.where(thres==255)\n",
    "    Y_label = border_data[0]\n",
    "    samples=Y_label.shape[0]\n",
    "    X=border_data[1].reshape(samples,1)\n",
    "    regs = LinearRegression()\n",
    "    feature = PolynomialFeatures(degree)\n",
    "    X_input = feature.fit_transform(X)\n",
    "    regs.fit(X_input,Y_label)\n",
    "    print('coefficient:',regs.coef_)\n",
    "    print('y-intersect:',regs.intercept_)\n",
    "    \n",
    "    newX = np.array([i for i in range(width)])\n",
    "    newX = newX.reshape(newX.shape[0],1)\n",
    "    newX_input = feature.fit_transform(newX)\n",
    "    newY = regs.predict(newX_input)\n",
    "    \n",
    "    plt.ylim(bottom=0,top=height)\n",
    "    plt.scatter(X,height-Y_label,color='blue',s=1)\n",
    "    plt.scatter(newX,height-newY,color='red',s=1)\n",
    "    plt.show()\n",
    "    \n",
    "    img_cuv=np.zeros_like(ori)\n",
    "    newY = newY.round(0)\n",
    "    for point in np.column_stack([newY,newX]):\n",
    "        py=int(point[0])\n",
    "        px=int(point[1])\n",
    "        w=4\n",
    "        if(thres[py-2:py-1,px]==255):\n",
    "            img_cuv[py-w:py+w,px]=255 \n",
    "    img_cuv[:,0:leftborder]=0 \n",
    "    img_cuv[:,width-rightborder:width]=0 \n",
    "    diff = cv2.absdiff(ori,img_cuv)\n",
    "    #cv2.imshow('1',img_cuv)\n",
    "    #cv2.imshow('2',ori)\n",
    "    denoise = cv2.fastNlMeansDenoising(diff,h=80)\n",
    "    \n",
    "    return denoise\n",
    "img=cv2.imread('d:/RPHF_exercise1.jpg')\n",
    "result_img=rm_regression(img,leftborder=20,rightborder=34,degree=3)\n",
    "cv2.imshow('result',result_img)\n",
    "cv2.imshow('original',img)\n",
    "cv2.waitKey(0)\n",
    "cv2.destroyAllWindows()"
   ]
  },
  {
   "cell_type": "code",
   "execution_count": null,
   "metadata": {},
   "outputs": [],
   "source": []
  }
 ],
 "metadata": {
  "kernelspec": {
   "display_name": "Python 3",
   "language": "python",
   "name": "python3"
  },
  "language_info": {
   "codemirror_mode": {
    "name": "ipython",
    "version": 3
   },
   "file_extension": ".py",
   "mimetype": "text/x-python",
   "name": "python",
   "nbconvert_exporter": "python",
   "pygments_lexer": "ipython3",
   "version": "3.8.5"
  }
 },
 "nbformat": 4,
 "nbformat_minor": 4
}
