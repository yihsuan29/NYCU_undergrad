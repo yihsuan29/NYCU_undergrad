{
 "cells": [
  {
   "cell_type": "code",
   "execution_count": null,
   "metadata": {},
   "outputs": [],
   "source": [
    "def get_setting():\n",
    "    res=[]\n",
    "    try:\n",
    "        with open('d:/stock.txt') as f:\n",
    "            slist=f.readlines()\n",
    "            print('讀入:',slist)\n",
    "            for lst in slist:\n",
    "                s = lst.split(',')\n",
    "                res.append([s[0].strip(),float(s[1]),float(s[2])])\n",
    "    except:\n",
    "        print('stock.txt 讀取錯誤')\n",
    "    return res\n",
    "\n",
    "import twstock\n",
    "\n",
    "def get_price(stockid):\n",
    "    rt = twstock.realtime.get(stockid)\n",
    "    if rt['success']:\n",
    "        return(rt['info']['name'],\n",
    "              float(rt['realtime']['latest_trade_price']))\n",
    "    else:\n",
    "        return(False,False)\n",
    "\n",
    "def get_best(stockid):\n",
    "    stock = twstock.Stock(stockid)\n",
    "    bp = twstock.BestFourPoint(stock).best_four_point()\n",
    "    if(bp):\n",
    "        return('買進' if bp[0] else '賣出',bp[1])\n",
    "    else:\n",
    "        return(False,False)\n",
    "\n",
    "import requests\n",
    "def send_ifttt(v1,v2,v3):\n",
    "    url = ('https://maker.ifttt.com/trigger/toline/with/'+\n",
    "           'key/dHVE92xcaCBGO95JfRcJi4'+\n",
    "           '?value1='+str(v1)+\n",
    "           '&value2='+str(v2)+\n",
    "           '&value3='+str(v3))\n",
    "    r=requests.get(url)\n",
    "    if r.text[:5]=='Congr':\n",
    "        print('Send('+str(v1)+', '+str(v2)+', '+str(v3)+') 到 Line')\n",
    "    return r.text\n",
    "ret = send_ifttt('TSMC',99,'Recommend to purchase')\n",
    "print('IFTTT returned message:',ret)"
   ]
  }
 ],
 "metadata": {
  "kernelspec": {
   "display_name": "Python 3",
   "language": "python",
   "name": "python3"
  },
  "language_info": {
   "codemirror_mode": {
    "name": "ipython",
    "version": 3
   },
   "file_extension": ".py",
   "mimetype": "text/x-python",
   "name": "python",
   "nbconvert_exporter": "python",
   "pygments_lexer": "ipython3",
   "version": "3.8.5"
  }
 },
 "nbformat": 4,
 "nbformat_minor": 4
}
