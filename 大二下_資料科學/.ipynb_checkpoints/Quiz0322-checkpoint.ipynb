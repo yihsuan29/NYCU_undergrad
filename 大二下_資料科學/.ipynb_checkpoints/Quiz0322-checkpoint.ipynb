{
 "cells": [
  {
   "cell_type": "code",
   "execution_count": 10,
   "metadata": {},
   "outputs": [
    {
     "name": "stdout",
     "output_type": "stream",
     "text": [
      "['aaa', 'aaa', 'aaa']\n"
     ]
    }
   ],
   "source": [
    "f=open('d:/a.txt','w',encoding='utf-8')\n",
    "f.write('''aaa\n",
    " aaa\n",
    "  aaa''')\n",
    "f.close()\n",
    "f=open('d:/a.txt','r',encoding='utf-8')\n",
    "s1 = [line.strip() for line in f.readlines()]\n",
    "print(s1)\n",
    "f.close()"
   ]
  },
  {
   "cell_type": "code",
   "execution_count": 8,
   "metadata": {},
   "outputs": [
    {
     "name": "stdout",
     "output_type": "stream",
     "text": [
      "['https://edition.cnn.com/', 'https://www.bbc.com/news', 'https://www.google.com/']\n",
      "\n",
      "title: CNN International - Breaking News, US News, World News and Video\n",
      "HTML: <html class=\"js no-flash geolocation websockets localstorage webworkers no-touchevents fontface supports textshadow csscolumns csscolumns-width csscolumns-span csscolumns-fill csscolumns-gap csscolumn\n",
      "\n",
      "title: Home - BBC News\n",
      "HTML: <html lang=\"en-GB\" class=\"b-pw-1280 b-reith-sans-font no-touch id-svg b-reith-sans-loaded orb-more-loaded bbcdotcom ads-enabled\" id=\"responsive-news\"><head>\n",
      "    <meta charset=\"utf-8\">\n",
      "    <meta name=\"\n",
      "\n",
      "title: Google\n",
      "HTML: <html itemscope=\"\" itemtype=\"http://schema.org/WebPage\" lang=\"zh-TW\"><head><meta charset=\"UTF-8\"><meta content=\"origin\" name=\"referrer\"><meta content=\"/images/branding/googleg/1x/googleg_standard_colo\n",
      "\n"
     ]
    }
   ],
   "source": [
    "from selenium import webdriver\n",
    "f=open('d:/url.txt','r',encoding='utf-8')\n",
    "s2 = [line.strip() for line in f.readlines()]\n",
    "print(s2)\n",
    "print()\n",
    "f.close()\n",
    "for i in s2:\n",
    "    browser = webdriver.Chrome()\n",
    "    browser.get(i)\n",
    "    print('title: '+browser.title)\n",
    "    print('HTML: '+browser.page_source[0:200])\n",
    "    print()\n",
    "    browser.quit()"
   ]
  },
  {
   "cell_type": "code",
   "execution_count": 9,
   "metadata": {},
   "outputs": [
    {
     "name": "stdout",
     "output_type": "stream",
     "text": [
      "werthjhgfcxhttps://edition.cnn.com/12345432123eszxhttps://www.bbc.com/newswertyu765trfdsadfhttps://www.google.com/wertyhgfc\n",
      "\n",
      "['https://edition.cnn.com/', 'https://www.bbc.com/', 'https://www.google.com/']\n",
      "\n",
      "title: CNN International - Breaking News, US News, World News and Video\n",
      "HTML: <html class=\"js no-flash geolocation websockets localstorage webworkers no-touchevents fontface supports textshadow csscolumns csscolumns-width csscolumns-span csscolumns-fill csscolumns-gap csscolumn\n",
      "\n",
      "title: BBC - Homepage\n",
      "HTML: <html class=\"b-header--black--white b-pw-1280 b-reith-sans-font id-svg flexbox flexboxlegacy flexwrap svg inlinesvg fontface csscolumns csscolumns-width csscolumns-span csscolumns-fill csscolumns-gap \n",
      "\n",
      "title: Google\n",
      "HTML: <html itemscope=\"\" itemtype=\"http://schema.org/WebPage\" lang=\"zh-TW\"><head><meta charset=\"UTF-8\"><meta content=\"origin\" name=\"referrer\"><meta content=\"/images/branding/googleg/1x/googleg_standard_colo\n",
      "\n"
     ]
    }
   ],
   "source": [
    "import re\n",
    "from selenium import webdriver\n",
    "f=open('d:/noisyurl.txt','r',encoding='utf-8')\n",
    "s3 = [line.strip() for line in f.readlines()]\n",
    "s3=s3[0]\n",
    "print(s3)\n",
    "print()\n",
    "result = re.findall(r\"https://\\w+\\.\\w+\\.\\w+/?\", s3)\n",
    "print(result)\n",
    "print()\n",
    "f.close()\n",
    "\n",
    "for i in result:\n",
    "    browser = webdriver.Chrome()\n",
    "    browser.get(i)\n",
    "    print('title: '+browser.title)\n",
    "    print('HTML: '+browser.page_source[0:200])\n",
    "    print()\n",
    "    browser.quit()"
   ]
  },
  {
   "cell_type": "code",
   "execution_count": 3,
   "metadata": {},
   "outputs": [
    {
     "name": "stdout",
     "output_type": "stream",
     "text": [
      "['1101', '1103', '1104']\n",
      "1101\n",
      "1103\n",
      "1104\n",
      "已關閉檔案\n"
     ]
    }
   ],
   "source": [
    "import twstock\n",
    "import random\n",
    "import time\n",
    "#先開檔案\n",
    "f1=open('d:/c.txt','w',encoding='utf-8')\n",
    "f1.write('''1101\n",
    "1103\n",
    "1104''')\n",
    "f1.close()\n",
    "f1=open('d:/c.txt','r',encoding='utf-8')\n",
    "s4 = [line.strip() for line in f1.readlines()]\n",
    "print(s4)\n",
    "f1.close()\n",
    "f2=open('d:/randomstock.txt','w',encoding='utf-8')\n",
    "for i in s4:    \n",
    "    try:\n",
    "        time.sleep(5)\n",
    "        print(i)\n",
    "        stock = twstock.Stock(i)\n",
    "        #找他的purchase price\n",
    "        price=stock.moving_average(stock.price,31)\n",
    "        low=(price[0])*0.8\n",
    "        high=(price[0])*1.2\n",
    "        s=i+','+str(low)+','+str(high)+\"\\n\"\n",
    "        f2.write(s)\n",
    "        print()\n",
    "    except:\n",
    "        continue\n",
    "print('已關閉檔案')\n",
    "f2.close()"
   ]
  },
  {
   "cell_type": "code",
   "execution_count": 5,
   "metadata": {},
   "outputs": [
    {
     "name": "stdout",
     "output_type": "stream",
     "text": [
      "['1101', '1103', '1104']\n",
      "最高股票代碼:1101 股價為49.7\n"
     ]
    }
   ],
   "source": [
    "import twstock\n",
    "import time\n",
    "highest_price=0\n",
    "f=open('d:/c.txt','r',encoding='utf-8')\n",
    "s4 = [line.strip() for line in f.readlines()]\n",
    "print(s4)\n",
    "f.close()\n",
    "for i in s4:\n",
    "    stockid=int(i) \n",
    "    time.sleep(3)\n",
    "    try:\n",
    "        rt = twstock.realtime.get(str(stockid))\n",
    "        price=float(rt['realtime']['latest_trade_price'])\n",
    "        if(price>highest_price):\n",
    "            highest_price=price\n",
    "            highest=stockid \n",
    "    except:\n",
    "        continue\n",
    "print(\"最高股票代碼:\"+str(highest)+\" 股價為\"+str(highest_price))"
   ]
  },
  {
   "cell_type": "code",
   "execution_count": 14,
   "metadata": {},
   "outputs": [
    {
     "name": "stdout",
     "output_type": "stream",
     "text": [
      "0檢查: 台積電 股價: 583.0\n"
     ]
    },
    {
     "ename": "TypeError",
     "evalue": "send_ifttt() missing 1 required positional argument: 'v3'",
     "output_type": "error",
     "traceback": [
      "\u001b[1;31m---------------------------------------------------------------------------\u001b[0m",
      "\u001b[1;31mTypeError\u001b[0m                                 Traceback (most recent call last)",
      "\u001b[1;32m<ipython-input-14-6512750c365c>\u001b[0m in \u001b[0;36m<module>\u001b[1;34m\u001b[0m\n\u001b[0;32m      8\u001b[0m     \u001b[0mname\u001b[0m\u001b[1;33m,\u001b[0m\u001b[0mprice\u001b[0m \u001b[1;33m=\u001b[0m \u001b[0mm\u001b[0m\u001b[1;33m.\u001b[0m\u001b[0mget_price\u001b[0m\u001b[1;33m(\u001b[0m\u001b[0mid\u001b[0m\u001b[1;33m)\u001b[0m\u001b[1;33m\u001b[0m\u001b[1;33m\u001b[0m\u001b[0m\n\u001b[0;32m      9\u001b[0m     \u001b[0mprint\u001b[0m\u001b[1;33m(\u001b[0m\u001b[0mstr\u001b[0m\u001b[1;33m(\u001b[0m\u001b[1;36m60\u001b[0m\u001b[1;33m-\u001b[0m\u001b[0mcheck_int\u001b[0m\u001b[1;33m)\u001b[0m\u001b[1;33m+\u001b[0m\u001b[1;34m'檢查:'\u001b[0m\u001b[1;33m,\u001b[0m\u001b[0mname\u001b[0m\u001b[1;33m,\u001b[0m\u001b[1;34m'股價:'\u001b[0m\u001b[1;33m,\u001b[0m\u001b[0mprice\u001b[0m\u001b[1;33m)\u001b[0m\u001b[1;33m\u001b[0m\u001b[1;33m\u001b[0m\u001b[0m\n\u001b[1;32m---> 10\u001b[1;33m     \u001b[0mm\u001b[0m\u001b[1;33m.\u001b[0m\u001b[0msend_ifttt\u001b[0m\u001b[1;33m(\u001b[0m\u001b[0mname\u001b[0m\u001b[1;33m,\u001b[0m\u001b[0mprice\u001b[0m\u001b[1;33m)\u001b[0m\u001b[1;33m\u001b[0m\u001b[1;33m\u001b[0m\u001b[0m\n\u001b[0m\u001b[0;32m     11\u001b[0m     \u001b[1;32mbreak\u001b[0m\u001b[1;33m\u001b[0m\u001b[1;33m\u001b[0m\u001b[0m\n\u001b[0;32m     12\u001b[0m     \u001b[0mtime\u001b[0m\u001b[1;33m.\u001b[0m\u001b[0msleep\u001b[0m\u001b[1;33m(\u001b[0m\u001b[1;36m3\u001b[0m\u001b[1;33m)\u001b[0m\u001b[1;33m\u001b[0m\u001b[1;33m\u001b[0m\u001b[0m\n",
      "\u001b[1;31mTypeError\u001b[0m: send_ifttt() missing 1 required positional argument: 'v3'"
     ]
    }
   ],
   "source": [
    "import time\n",
    "import stock_module as m\n",
    "\n",
    "cnt = 1\n",
    "check_int = 60\n",
    "while True:\n",
    "    id='2330'\n",
    "    name,price = m.get_price(id)\n",
    "    if price>600:\n",
    "        check_int-=1\n",
    "    else:\n",
    "        check_int=36\n",
    "            \n",
    "    if check_int ==0:\n",
    "        m.send_ifttt(name,price,' 股價在3分鐘內皆小於250') \n",
    "        break\n",
    "    time.sleep(3)"
   ]
  },
  {
   "cell_type": "code",
   "execution_count": 15,
   "metadata": {},
   "outputs": [
    {
     "name": "stdout",
     "output_type": "stream",
     "text": [
      "['2330, 220, 223', '2317, 77, 81', '1301, 97, 100']\n",
      "\n",
      "False 股價: False\n"
     ]
    },
    {
     "ename": "ValueError",
     "evalue": "invalid literal for int() with base 10: '2317, 77, 81'",
     "output_type": "error",
     "traceback": [
      "\u001b[1;31m---------------------------------------------------------------------------\u001b[0m",
      "\u001b[1;31mValueError\u001b[0m                                Traceback (most recent call last)",
      "\u001b[1;32m<ipython-input-15-35d55914abc7>\u001b[0m in \u001b[0;36m<module>\u001b[1;34m\u001b[0m\n\u001b[0;32m      9\u001b[0m \u001b[0mname\u001b[0m\u001b[1;33m,\u001b[0m\u001b[0mprice\u001b[0m \u001b[1;33m=\u001b[0m \u001b[0mm\u001b[0m\u001b[1;33m.\u001b[0m\u001b[0mget_price\u001b[0m\u001b[1;33m(\u001b[0m\u001b[0mid\u001b[0m\u001b[1;33m)\u001b[0m\u001b[1;33m\u001b[0m\u001b[1;33m\u001b[0m\u001b[0m\n\u001b[0;32m     10\u001b[0m \u001b[0mprint\u001b[0m\u001b[1;33m(\u001b[0m\u001b[0mname\u001b[0m\u001b[1;33m,\u001b[0m\u001b[1;34m'股價:'\u001b[0m\u001b[1;33m,\u001b[0m\u001b[0mprice\u001b[0m\u001b[1;33m)\u001b[0m\u001b[1;33m\u001b[0m\u001b[1;33m\u001b[0m\u001b[0m\n\u001b[1;32m---> 11\u001b[1;33m \u001b[1;32mif\u001b[0m \u001b[0mprice\u001b[0m\u001b[1;33m>\u001b[0m\u001b[0mint\u001b[0m\u001b[1;33m(\u001b[0m\u001b[0ms2\u001b[0m\u001b[1;33m[\u001b[0m\u001b[1;36m1\u001b[0m\u001b[1;33m]\u001b[0m\u001b[1;33m)\u001b[0m\u001b[1;33m:\u001b[0m\u001b[1;33m\u001b[0m\u001b[1;33m\u001b[0m\u001b[0m\n\u001b[0m\u001b[0;32m     12\u001b[0m     \u001b[0mm\u001b[0m\u001b[1;33m.\u001b[0m\u001b[0msend_ifttt\u001b[0m\u001b[1;33m(\u001b[0m\u001b[0mname\u001b[0m\u001b[1;33m,\u001b[0m\u001b[0mprice\u001b[0m\u001b[1;33m,\u001b[0m\u001b[1;34m' 買'\u001b[0m\u001b[1;33m)\u001b[0m\u001b[1;33m\u001b[0m\u001b[1;33m\u001b[0m\u001b[0m\n",
      "\u001b[1;31mValueError\u001b[0m: invalid literal for int() with base 10: '2317, 77, 81'"
     ]
    }
   ],
   "source": [
    "import time\n",
    "import stock_module as m\n",
    "f=open('d:/stock.txt','r',encoding='utf-8')\n",
    "s2 = [line.strip() for line in f.readlines()]\n",
    "print(s2)\n",
    "print()\n",
    "f.close()\n",
    "id=s2[0]\n",
    "name,price = m.get_price(id)\n",
    "print(name,'股價:',price)\n",
    "if price>int(s2[1]):\n",
    "    m.send_ifttt(name,price,' 買') "
   ]
  },
  {
   "cell_type": "code",
   "execution_count": 13,
   "metadata": {},
   "outputs": [
    {
     "name": "stdout",
     "output_type": "stream",
     "text": [
      "<selenium.webdriver.remote.webelement.WebElement (session=\"5f5b9fa6756f331a6950470d86010706\", element=\"98c0cc7d-261c-44bc-8276-7daadc5f8225\")>\n",
      "2,736.95\n"
     ]
    }
   ],
   "source": [
    "from selenium import webdriver\n",
    "browser = webdriver.Chrome()\n",
    "browser.get('https://finance.yahoo.com/quote/GOOG?p=GOOG&.tsrc=fin-srch')\n",
    "price=browser.find_element_by_css_selector('[data-test=\"OPEN-value\"]')\n",
    "print(price)\n",
    "print(price.text)"
   ]
  },
  {
   "cell_type": "code",
   "execution_count": null,
   "metadata": {},
   "outputs": [],
   "source": []
  }
 ],
 "metadata": {
  "kernelspec": {
   "display_name": "Python 3",
   "language": "python",
   "name": "python3"
  },
  "language_info": {
   "codemirror_mode": {
    "name": "ipython",
    "version": 3
   },
   "file_extension": ".py",
   "mimetype": "text/x-python",
   "name": "python",
   "nbconvert_exporter": "python",
   "pygments_lexer": "ipython3",
   "version": "3.8.5"
  }
 },
 "nbformat": 4,
 "nbformat_minor": 4
}
