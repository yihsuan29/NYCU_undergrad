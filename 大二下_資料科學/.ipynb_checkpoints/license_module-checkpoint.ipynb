{
 "cells": [
  {
   "cell_type": "code",
   "execution_count": 8,
   "metadata": {},
   "outputs": [
    {
     "name": "stdout",
     "output_type": "stream",
     "text": [
      "status:  Succeeded\n",
      "plate number:  BCF 260\n"
     ]
    }
   ],
   "source": [
    "import requests\n",
    "import cv2\n",
    "import time\n",
    "import re\n",
    "\n",
    "base = 'https://yihsuan.cognitiveservices.azure.com/vision/v2.0'\n",
    "recog_url = f'{base}/recognizeText?mode=Printed'\n",
    "key = 'd9e3ede2f9e4488abf04196bcfbbeb3c'\n",
    "headers = {'Ocp-Apim-Subscription-Key': key}\n",
    "headers_stream = {'Ocp-Apim-Subscription-Key': key,\n",
    "                    'Content-Type': 'application/octet-stream'} \n",
    "def get_license(img):\n",
    "    img_encode = cv2.imencode('.jpg',img)[1]\n",
    "    img_bytes = img_encode.tobytes()\n",
    "    r1 = requests.post(recog_url,headers=headers_stream,data=img_bytes)\n",
    "    if r1.status_code!=202:\n",
    "        print(r1.json())\n",
    "        return 'Permission Failure'\n",
    "    result_url = r1.headers['Operation-Location']\n",
    "    r2 = requests.get(result_url,headers=headers)\n",
    "    while r2.status_code == 200 and r2.json()['status']!='Succeeded':\n",
    "        r2 = requests.get(result_url,headers=headers)\n",
    "        time.sleep(0.5)\n",
    "        print('status: ',r2.json()['status'])\n",
    "    carcard = ''\n",
    "    lines = r2.json()['recognitionResult']['lines']\n",
    "    for i in range(len(lines)):\n",
    "        text = lines[i]['text']\n",
    "        m=re.match(r'^[\\w]{2,4}[-. ][\\w]{2,4}$',text)\n",
    "        if m!=None:\n",
    "            carcard = m.group()\n",
    "            return carcard\n",
    "    if carcard =='':\n",
    "        return 'Cannot find plate number'"
   ]
  },
  {
   "cell_type": "code",
   "execution_count": null,
   "metadata": {},
   "outputs": [],
   "source": []
  }
 ],
 "metadata": {
  "kernelspec": {
   "display_name": "Python 3",
   "language": "python",
   "name": "python3"
  },
  "language_info": {
   "codemirror_mode": {
    "name": "ipython",
    "version": 3
   },
   "file_extension": ".py",
   "mimetype": "text/x-python",
   "name": "python",
   "nbconvert_exporter": "python",
   "pygments_lexer": "ipython3",
   "version": "3.8.5"
  }
 },
 "nbformat": 4,
 "nbformat_minor": 4
}
