{
 "cells": [
  {
   "cell_type": "code",
   "execution_count": 1,
   "metadata": {},
   "outputs": [
    {
     "name": "stdout",
     "output_type": "stream",
     "text": [
      "Send(TSMC, 99, Recommend to purchase) 到 Line\n",
      "IFTTT returned message: Congratulations! You've fired the toline event\n",
      "讀入: ['2330, 220, 223\\n', '2317, 77, 81\\n', '1301, 97, 100']\n",
      "檢查: 台積電 股價: 581.0 區間: 220.0 ~ 223.0\n",
      "Send(台積電, 581.0, 賣出(股價高於223.0)) 到 Line\n",
      "Send(台積電, 581.0, 買進 (量縮價不跌, 三日均價大於六日均價)) 到 Line\n",
      "檢查: 鴻海 股價: 106.0 區間: 77.0 ~ 81.0\n",
      "Send(鴻海, 106.0, 賣出(股價高於81.0)) 到 Line\n",
      "Send(鴻海, 106.0, 買進 (量大收紅, 三日均價大於六日均價)) 到 Line\n",
      "檢查: 台塑 股價: 106.0 區間: 97.0 ~ 100.0\n",
      "Send(台塑, 106.0, 賣出(股價高於100.0)) 到 Line\n",
      "Send(台塑, 106.0, 賣出 (量大收黑, 三日均價由上往下)) 到 Line\n",
      "--------------\n"
     ]
    },
    {
     "ename": "NameError",
     "evalue": "name 'check_cnt' is not defined",
     "output_type": "error",
     "traceback": [
      "\u001b[1;31m---------------------------------------------------------------------------\u001b[0m",
      "\u001b[1;31mNameError\u001b[0m                                 Traceback (most recent call last)",
      "\u001b[1;32m<ipython-input-1-ffcfa4be924f>\u001b[0m in \u001b[0;36m<module>\u001b[1;34m\u001b[0m\n\u001b[0;32m     30\u001b[0m                 \u001b[0mlog2\u001b[0m\u001b[1;33m[\u001b[0m\u001b[0mi\u001b[0m\u001b[1;33m]\u001b[0m\u001b[1;33m=\u001b[0m\u001b[0mwhy\u001b[0m\u001b[1;33m\u001b[0m\u001b[1;33m\u001b[0m\u001b[0m\n\u001b[0;32m     31\u001b[0m     \u001b[0mprint\u001b[0m\u001b[1;33m(\u001b[0m\u001b[1;34m'--------------'\u001b[0m\u001b[1;33m)\u001b[0m\u001b[1;33m\u001b[0m\u001b[1;33m\u001b[0m\u001b[0m\n\u001b[1;32m---> 32\u001b[1;33m     \u001b[0mcheck_cnt\u001b[0m\u001b[1;33m-=\u001b[0m\u001b[1;36m1\u001b[0m\u001b[1;33m\u001b[0m\u001b[1;33m\u001b[0m\u001b[0m\n\u001b[0m\u001b[0;32m     33\u001b[0m     \u001b[1;32mif\u001b[0m \u001b[0mcheck_cnt\u001b[0m \u001b[1;33m==\u001b[0m\u001b[1;36m0\u001b[0m\u001b[1;33m:\u001b[0m\u001b[1;32mbreak\u001b[0m\u001b[1;33m\u001b[0m\u001b[1;33m\u001b[0m\u001b[0m\n\u001b[0;32m     34\u001b[0m     \u001b[0mtime\u001b[0m\u001b[1;33m.\u001b[0m\u001b[0msleep\u001b[0m\u001b[1;33m(\u001b[0m\u001b[1;36m180\u001b[0m\u001b[1;33m)\u001b[0m\u001b[1;33m\u001b[0m\u001b[1;33m\u001b[0m\u001b[0m\n",
      "\u001b[1;31mNameError\u001b[0m: name 'check_cnt' is not defined"
     ]
    }
   ],
   "source": [
    "import time\n",
    "import stock_module as m\n",
    "\n",
    "slist = m.get_setting()\n",
    "cnt = len(slist)\n",
    "\n",
    "log1=[]\n",
    "log2=[]\n",
    "for i in range(cnt):\n",
    "    log1.append('')\n",
    "    log2.append('')\n",
    "check_int = 20\n",
    "while True:\n",
    "    for i in range(cnt):\n",
    "        id,low,high=slist[i]\n",
    "        name,price = m.get_price(id)\n",
    "        print('檢查:',name,'股價:',price,'區間:',low,'~',high)\n",
    "        if price<=low:\n",
    "            if log1[i]!='買進':\n",
    "                m.send_ifttt(name,price,'買進(股價低於'+str(low)+')')\n",
    "                log1[i]='買進'\n",
    "        elif price>=high:\n",
    "            if log1[i]!='賣出':\n",
    "                m.send_ifttt(name,price,'賣出(股價高於'+str(high)+')')\n",
    "                log1[i]='賣出'\n",
    "        act,why = m.get_best(id)\n",
    "        if why:\n",
    "            if log2[i]!=why:\n",
    "                m.send_ifttt(name,price,act+' ('+why+')')\n",
    "                log2[i]=why\n",
    "    print('--------------')\n",
    "    check_cnt-=1\n",
    "    if check_int ==0:break\n",
    "    time.sleep(180)"
   ]
  },
  {
   "cell_type": "code",
   "execution_count": null,
   "metadata": {},
   "outputs": [],
   "source": []
  }
 ],
 "metadata": {
  "kernelspec": {
   "display_name": "Python 3",
   "language": "python",
   "name": "python3"
  },
  "language_info": {
   "codemirror_mode": {
    "name": "ipython",
    "version": 3
   },
   "file_extension": ".py",
   "mimetype": "text/x-python",
   "name": "python",
   "nbconvert_exporter": "python",
   "pygments_lexer": "ipython3",
   "version": "3.8.5"
  }
 },
 "nbformat": 4,
 "nbformat_minor": 4
}
