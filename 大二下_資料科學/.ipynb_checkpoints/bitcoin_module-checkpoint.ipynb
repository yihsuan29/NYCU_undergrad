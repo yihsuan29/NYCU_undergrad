{
 "cells": [
  {
   "cell_type": "code",
   "execution_count": 1,
   "metadata": {},
   "outputs": [],
   "source": [
    "import requests\n",
    "import pandas as pd\n",
    "\n",
    "def get_price(url):\n",
    "    data=requests.get(url)\n",
    "    data_prices=data.json()['stats']\n",
    "    df=pd.DataFrame(data_prices)\n",
    "    df.columns=['datetime','twd']\n",
    "    df['datetime']=pd.to_datetime(df['datetime'],unit='ms')\n",
    "    df.index = df['datetime']\n",
    "    return df\n",
    "\n"
   ]
  },
  {
   "cell_type": "code",
   "execution_count": 3,
   "metadata": {},
   "outputs": [],
   "source": [
    "def strategy(df,total,ma_num,stop_earn):\n",
    "    df['ma']=df['twd'].rolling(window=ma_num).mean()\n",
    "    df=df[ma_num-1:]\n",
    "    entry_price=0\n",
    "    max_price=0\n",
    "    min_price=0\n",
    "    state='wait_long'\n",
    "    for i in range(len(df)):\n",
    "        if state=='wait_long':\n",
    "            if df['twd'][i]>df['ma'][i]:\n",
    "                max_price = df['twd'][i]\n",
    "                entry_price = df['twd'][i]\n",
    "                state = 'entry_long'\n",
    "        elif state == 'wait_short':\n",
    "            if df['twd'][i]<df['ma'][i]:\n",
    "                min_price = df['twd'][i]\n",
    "                entry_price = df['twd'][i]\n",
    "                state = 'entry_short'\n",
    "        elif state == 'entry_long':\n",
    "            if df['twd'][i]>max_price:\n",
    "                max_price = df['twd'][i]\n",
    "            if df['twd'][i]<max_price:\n",
    "                total+=df['twd'][i]-entry_price\n",
    "                state='wait_short'\n",
    "            elif df['twd'][i]-entry_price>stop_earn and stop_earn!=0:\n",
    "                total+=df['twd'][i]-entry_price\n",
    "                state='wait_short'\n",
    "        elif state == 'entry_short':\n",
    "            if df['twd'][i]<min_price:\n",
    "                min_price = df['twd'][i]\n",
    "            if df['twd'][i]>min_price:\n",
    "                total+=entry_price-df['twd'][i]\n",
    "                state='wait_long'\n",
    "            elif entry_price-df['twd'][i]>stop_earn and stop_earn!=0:\n",
    "                total+=entry_price-df['twd'][i]\n",
    "                state='wait_long'\n",
    "    return total"
   ]
  },
  {
   "cell_type": "code",
   "execution_count": null,
   "metadata": {},
   "outputs": [],
   "source": []
  }
 ],
 "metadata": {
  "kernelspec": {
   "display_name": "Python 3",
   "language": "python",
   "name": "python3"
  },
  "language_info": {
   "codemirror_mode": {
    "name": "ipython",
    "version": 3
   },
   "file_extension": ".py",
   "mimetype": "text/x-python",
   "name": "python",
   "nbconvert_exporter": "python",
   "pygments_lexer": "ipython3",
   "version": "3.8.5"
  }
 },
 "nbformat": 4,
 "nbformat_minor": 4
}
