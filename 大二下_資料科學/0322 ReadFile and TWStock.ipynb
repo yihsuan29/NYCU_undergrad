{
 "cells": [
  {
   "cell_type": "code",
   "execution_count": 2,
   "metadata": {},
   "outputs": [
    {
     "name": "stdout",
     "output_type": "stream",
     "text": [
      "xxx\n",
      "yyy\n",
      "zzz\n"
     ]
    }
   ],
   "source": [
    "f=open('d:/a.txt')\n",
    "data = f.read()\n",
    "#記得要關\n",
    "f.close()\n",
    "print(data)"
   ]
  },
  {
   "cell_type": "code",
   "execution_count": 5,
   "metadata": {},
   "outputs": [
    {
     "name": "stdout",
     "output_type": "stream",
     "text": [
      "['aaa\\n', 'bbb\\n', 'ccc\\n', 'ddd']\n"
     ]
    }
   ],
   "source": [
    "f=open('d:/b.txt','w',encoding='utf-8')\n",
    "f.write('''aaa\n",
    "bbb\n",
    "ccc\n",
    "ddd''')\n",
    "f.close()\n",
    "f=open('d:/b.txt','r',encoding='utf-8')\n",
    "s=f.readlines()\n",
    "print(s)\n",
    "f.close()"
   ]
  },
  {
   "cell_type": "code",
   "execution_count": 4,
   "metadata": {},
   "outputs": [
    {
     "name": "stdout",
     "output_type": "stream",
     "text": [
      "xxx\n",
      "y\n"
     ]
    }
   ],
   "source": [
    "with open('d:/a.txt') as f:\n",
    "    s=f.read(5)\n",
    "print(s)"
   ]
  },
  {
   "cell_type": "code",
   "execution_count": 5,
   "metadata": {},
   "outputs": [
    {
     "name": "stdout",
     "output_type": "stream",
     "text": [
      "讀入: ['0050, 220, 223\\n', '2454, 77, 81\\n', '2704, 97, 100']\n",
      "傳回: [['0050', 220.0, 223.0], ['2454', 77.0, 81.0], ['2704', 97.0, 100.0]]\n"
     ]
    }
   ],
   "source": [
    "def get_setting():\n",
    "    res=[]\n",
    "    try:\n",
    "        with open('d:/stock.txt') as f:\n",
    "            slist=f.readlines()\n",
    "            print('讀入:',slist)\n",
    "            for lst in slist:\n",
    "                s = lst.split(',')\n",
    "                res.append([s[0].strip(),float(s[1]),float(s[2])])\n",
    "    except:\n",
    "        print('stock.txt 讀取錯誤')\n",
    "    return res\n",
    "\n",
    "stock = get_setting()\n",
    "print('傳回:',stock)"
   ]
  },
  {
   "cell_type": "code",
   "execution_count": null,
   "metadata": {},
   "outputs": [],
   "source": [
    "import twstock\n",
    "for i in ['1000','1101','1102']:\n",
    "    stock = twstock.Stock(i)"
   ]
  },
  {
   "cell_type": "code",
   "execution_count": null,
   "metadata": {},
   "outputs": [],
   "source": [
    "import twstock\n",
    "\n",
    "stock = twstock.Stock('2330')\n",
    "print(stock.moving_average(stock.price,5))"
   ]
  },
  {
   "cell_type": "code",
   "execution_count": null,
   "metadata": {},
   "outputs": [],
   "source": [
    "import twstock\n",
    "stock = twstock.Stock('2330')\n",
    "print('日期:',stock.date[-1])\n",
    "print('開盤價:',stock.open[-1])\n",
    "print('最高價:',stock.high[-1])\n",
    "print('最低價:',stock.low[-1])"
   ]
  },
  {
   "cell_type": "code",
   "execution_count": null,
   "metadata": {},
   "outputs": [],
   "source": [
    "stock.fetch(2018,7)\n",
    "stock.fetch_31()\n",
    "stock.fetch_from(2016,9)"
   ]
  },
  {
   "cell_type": "code",
   "execution_count": null,
   "metadata": {},
   "outputs": [],
   "source": [
    "import twstock\n",
    "\n",
    "stock = twstock.Stock('2330')\n",
    "bfp = twstocl.BestFourPoint(stock)\n",
    "print(bfp.best_four_point())"
   ]
  },
  {
   "cell_type": "code",
   "execution_count": null,
   "metadata": {},
   "outputs": [],
   "source": [
    "import twstock\n",
    "rt = twstock.realtime.get('2330')\n",
    "if(rt['success']):\n",
    "    print(rt)"
   ]
  },
  {
   "cell_type": "code",
   "execution_count": 1,
   "metadata": {},
   "outputs": [
    {
     "name": "stdout",
     "output_type": "stream",
     "text": [
      "台積電 | 581.0 | 買進 | 量縮價不跌, 三日均價大於六日均價\n"
     ]
    }
   ],
   "source": [
    "import twstock\n",
    "\n",
    "def get_price(stockid):\n",
    "    rt = twstock.realtime.get(stockid)\n",
    "    if rt['success']:\n",
    "        return(rt['info']['name'],\n",
    "              float(rt['realtime']['latest_trade_price']))\n",
    "    else:\n",
    "        return(False,False)\n",
    "\n",
    "def get_best(stockid):\n",
    "    stock = twstock.Stock(stockid)\n",
    "    bp = twstock.BestFourPoint(stock).best_four_point()\n",
    "    if(bp):\n",
    "        return('買進' if bp[0] else '賣出',bp[1])\n",
    "    else:\n",
    "        return(False,False)\n",
    "name,price=get_price('2330')\n",
    "act,why = get_best('2330')\n",
    "print(name,price,act,why,sep=' | ')"
   ]
  },
  {
   "cell_type": "code",
   "execution_count": 4,
   "metadata": {},
   "outputs": [
    {
     "name": "stdout",
     "output_type": "stream",
     "text": [
      "Send(TSMC, 99, Recommend to purchase) 到 Line\n",
      "IFTTT returned message: Congratulations! You've fired the toline event\n"
     ]
    }
   ],
   "source": [
    "import requests\n",
    "def send_ifttt(v1,v2,v3):\n",
    "    url = ('https://maker.ifttt.com/trigger/toline/with/'+\n",
    "           'key/dHVE92xcaCBGO95JfRcJi4'+\n",
    "           '?value1='+str(v1)+\n",
    "           '&value2='+str(v2)+\n",
    "           '&value3='+str(v3))\n",
    "    r=requests.get(url)\n",
    "    if r.text[:5]=='Congr':\n",
    "        print('Send('+str(v1)+', '+str(v2)+', '+str(v3)+') 到 Line')\n",
    "    return r.text\n",
    "ret = send_ifttt('TSMC',99,'Recommend to purchase')\n",
    "print('IFTTT returned message:',ret)"
   ]
  },
  {
   "cell_type": "code",
   "execution_count": null,
   "metadata": {},
   "outputs": [],
   "source": [
    "import twstock\n",
    "import time\n",
    "highest_price=0\n",
    "highest=0\n",
    "stockid=1100\n",
    "while(stockid<9999):\n",
    "    stockid+=1\n",
    "    time.sleep(1)\n",
    "    try:\n",
    "        rt = twstock.realtime.get(str(stockid))\n",
    "        price=float(rt['realtime']['latest_trade_price'])\n",
    "        if(price>highest_price):\n",
    "            highest_price=price\n",
    "            highest=stockid \n",
    "    except:\n",
    "        print(str(stockid)+':查無此股')\n",
    "print(\"最高股票代碼:\"+str(highest)+\" 股價為\"+str(highest_price))"
   ]
  },
  {
   "cell_type": "code",
   "execution_count": null,
   "metadata": {},
   "outputs": [],
   "source": [
    "from selenium import webdriver\n",
    "browser = webdriver.Chrome()\n",
    "browser.get('https://finance.yahoo.com/quote/GOOG?p=GOOG&.tsrc=fin-srch')\n",
    "print(browser.find_element_by_css_selector('[data-test=\"OPEN-value\"]'))"
   ]
  },
  {
   "cell_type": "code",
   "execution_count": null,
   "metadata": {},
   "outputs": [],
   "source": []
  }
 ],
 "metadata": {
  "kernelspec": {
   "display_name": "Python 3",
   "language": "python",
   "name": "python3"
  },
  "language_info": {
   "codemirror_mode": {
    "name": "ipython",
    "version": 3
   },
   "file_extension": ".py",
   "mimetype": "text/x-python",
   "name": "python",
   "nbconvert_exporter": "python",
   "pygments_lexer": "ipython3",
   "version": "3.8.5"
  }
 },
 "nbformat": 4,
 "nbformat_minor": 4
}
