{
 "cells": [
  {
   "cell_type": "code",
   "execution_count": 4,
   "metadata": {},
   "outputs": [
    {
     "name": "stdout",
     "output_type": "stream",
     "text": [
      "The New York Times - Breaking News, US News, World News and Videos\n"
     ]
    }
   ],
   "source": [
    "import requests\n",
    "from bs4 import BeautifulSoup\n",
    "\n",
    "page=requests.get(\"http://www.nytimes.com\")\n",
    "soup=BeautifulSoup(page.text,\"html.parser\")\n",
    "print(soup.title.string)"
   ]
  },
  {
   "cell_type": "code",
   "execution_count": 19,
   "metadata": {},
   "outputs": [
    {
     "name": "stdout",
     "output_type": "stream",
     "text": [
      "200\n"
     ]
    }
   ],
   "source": [
    "import requests\n",
    "r=requests.get(\"http://www.nytimes.com\")\n",
    "print(r.status_code)"
   ]
  },
  {
   "cell_type": "code",
   "execution_count": 25,
   "metadata": {},
   "outputs": [
    {
     "name": "stdout",
     "output_type": "stream",
     "text": [
      "404\n"
     ]
    }
   ],
   "source": [
    "import requests\n",
    "r=requests.get(\"http://www.nytimes.com/123\")\n",
    "print(r.status_code)"
   ]
  },
  {
   "cell_type": "code",
   "execution_count": 1,
   "metadata": {},
   "outputs": [
    {
     "data": {
      "text/plain": [
       "<html>\n",
       "<head>\n",
       "<title>旗標科技</title>\n",
       "</head>\n",
       "<body>\n",
       "<div class=\"section\" id=\"main\">\n",
       "<img alt=\"旗標圖示\" src=\"http://flag.tw/logo.png\"/>\n",
       "<p>產品類別</p>\n",
       "<button id=\"books\"><h4 class=\"bk\">圖書</h4></button>\n",
       "<button id=\"maker\"><h4 class=\"pk\">創客</h4></button>\n",
       "<button id=\"teach\"><h4 class=\"pk\">教具</h4></button>\n",
       "</div>\n",
       "<div class=\"section\" id=\"footer\">\n",
       "<p>杭州南路一段15-1號19樓</p>\n",
       "<a href=\"https://flag.tw/contact\">聯絡我們</a>\n",
       "</div>\n",
       "</body>\n",
       "</html>"
      ]
     },
     "execution_count": 1,
     "metadata": {},
     "output_type": "execute_result"
    }
   ],
   "source": [
    "page=\"\"\"\n",
    "<html>\n",
    "    <head>\n",
    "\t<title>旗標科技</title>\n",
    "    </head>\n",
    "    <body>\n",
    "        <div class=\"section\" id=\"main\">\n",
    "        <img alt=\"旗標圖示\" src=\"http://flag.tw/logo.png\">\n",
    "        <p>產品類別</p>\n",
    "        <button id=\"books\"><h4 class=\"bk\">圖書</h4></button>\n",
    "        <button id=\"maker\"><h4 class=\"pk\">創客</h4></button>\n",
    "        <button id=\"teach\"><h4 class=\"pk\">教具</h4></button>    \n",
    "        </div>\n",
    "        <div class=\"section\" id=\"footer\">\n",
    "            <p>杭州南路一段15-1號19樓</p>\n",
    "            <a href=\"https://flag.tw/contact\">聯絡我們</a>\n",
    "        </div>\n",
    "    </body>\n",
    "</html>\n",
    "\"\"\"\n",
    "from bs4 import BeautifulSoup\n",
    "bs=BeautifulSoup(page,'lxml');\n",
    "print(bs.find_all('h4',{'class':'pk'})[1])"
   ]
  },
  {
   "cell_type": "code",
   "execution_count": null,
   "metadata": {},
   "outputs": [],
   "source": []
  },
  {
   "cell_type": "code",
   "execution_count": null,
   "metadata": {},
   "outputs": [],
   "source": []
  }
 ],
 "metadata": {
  "kernelspec": {
   "display_name": "Python 3",
   "language": "python",
   "name": "python3"
  },
  "language_info": {
   "codemirror_mode": {
    "name": "ipython",
    "version": 3
   },
   "file_extension": ".py",
   "mimetype": "text/x-python",
   "name": "python",
   "nbconvert_exporter": "python",
   "pygments_lexer": "ipython3",
   "version": "3.8.5"
  }
 },
 "nbformat": 4,
 "nbformat_minor": 4
}
