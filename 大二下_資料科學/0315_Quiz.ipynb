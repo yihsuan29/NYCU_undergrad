{
 "cells": [
  {
   "cell_type": "code",
   "execution_count": 10,
   "metadata": {},
   "outputs": [
    {
     "name": "stdout",
     "output_type": "stream",
     "text": [
      "['https://edition.cnn.com/', 'https://www.bbc.com/', 'https://portal.nycu.edu']\n",
      "<re.Match object; span=(18, 42), match='https://edition.cnn.com/'>\n",
      "None\n",
      "<re.Match object; span=(0, 11), match='xxx@163.com'>\n",
      "None\n",
      "<re.Match object; span=(0, 12), match='ABCDabcd1234'>\n",
      "<re.Match object; span=(0, 12), match='Aa1Bb2Cc3Dd4'>\n",
      "None\n",
      "None\n"
     ]
    }
   ],
   "source": [
    "import re\n",
    "string='asertyu87654ewsdcx https://edition.cnn.com/ajksdfghgfdzxcdfgbvcxhttps://www.bbc.com/newsertyujhnbvcsertyhjhnbvcxhttps://portal.nycu.edu.tw/#/login?redirect=%2F345tygfcvgreqazxcjkhlo987ytrdc'\n",
    "result = re.findall(r\"https://\\w+\\.\\w+\\.\\w+/?\", string)\n",
    "print(result)\n",
    "ptn2 = re.compile(r'[\\d]+@nctu.edu.tw')\n",
    "print(ptn1.search('asertyu87654ewsdcxhttps://edition.cnn.com/ajksdfghgfdzxcdfgbvcxhttps://www.bbc.com/newsertyujhnbvcsertyhjhnbvcxhttps://portal.nycu.edu.tw/#/login?redirect=%2F345tygfcvgreqazxcjkhlo987ytrdc'))\n",
    "print(ptn2.search('xxx@nctu.edu.tw'))\n",
    "ptn3 = re.compile(r'[\\w]+@+[\\d]+.+[\\w]')\n",
    "print(ptn3.search('xxx@163.com'))\n",
    "print(ptn3.search('xxx@nctu.edu.tw'))\n",
    "ptn4 = re.compile(r'(?=(.*[A-Z]){4})(?=(.*[a-z]){4})(?=(.*\\d){4}).+')\n",
    "print(ptn4.search('ABCDabcd1234'))\n",
    "print(ptn4.search('Aa1Bb2Cc3Dd4'))\n",
    "print(ptn4.search('ABCabcde1234'))\n",
    "print(ptn4.search('ABCabcd134'))"
   ]
  },
  {
   "cell_type": "code",
   "execution_count": 10,
   "metadata": {},
   "outputs": [
    {
     "name": "stdout",
     "output_type": "stream",
     "text": [
      "title: CNN International - Breaking News, US News, World News and Video\n",
      "HTML: <html clas\n"
     ]
    }
   ],
   "source": [
    "from selenium import webdriver\n",
    "\n",
    "browser = webdriver.Chrome()\n",
    "browser.get('http://www.cnn.com')\n",
    "print('title: '+browser.title)\n",
    "print('HTML: '+browser.page_source[0:10])\n",
    "browser.save_screenshot('d:/cnn.png')\n",
    "browser.quit()"
   ]
  },
  {
   "cell_type": "code",
   "execution_count": 11,
   "metadata": {},
   "outputs": [],
   "source": [
    "#157\n",
    "from time import sleep\n",
    "from selenium import webdriver\n",
    "\n",
    "browser = webdriver.Chrome()\n",
    "sleep(1)\n",
    "browser.get('https://portal.nycu.edu.tw/')\n",
    "sleep(1)\n",
    "browser.find_element_by_name('account').send_keys('109705001')\n",
    "browser.find_element_by_name('password').send_keys('Yihsuan0828')\n",
    "browser.find_element_by_class_name('login').click()\n"
   ]
  },
  {
   "cell_type": "code",
   "execution_count": null,
   "metadata": {},
   "outputs": [],
   "source": []
  }
 ],
 "metadata": {
  "kernelspec": {
   "display_name": "Python 3",
   "language": "python",
   "name": "python3"
  },
  "language_info": {
   "codemirror_mode": {
    "name": "ipython",
    "version": 3
   },
   "file_extension": ".py",
   "mimetype": "text/x-python",
   "name": "python",
   "nbconvert_exporter": "python",
   "pygments_lexer": "ipython3",
   "version": "3.8.5"
  }
 },
 "nbformat": 4,
 "nbformat_minor": 4
}
