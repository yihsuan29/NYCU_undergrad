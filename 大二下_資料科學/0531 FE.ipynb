{
 "cells": [
  {
   "cell_type": "markdown",
   "metadata": {},
   "source": [
    "# 第一題"
   ]
  },
  {
   "cell_type": "code",
   "execution_count": 414,
   "metadata": {},
   "outputs": [
    {
     "name": "stdout",
     "output_type": "stream",
     "text": [
      "105\n",
      "[[5.4 3.9 1.7 0.4]\n",
      " [6.3 2.5 5.  1.9]\n",
      " [5.6 2.7 4.2 1.3]\n",
      " [5.  3.5 1.3 0.3]\n",
      " [6.4 3.2 5.3 2.3]\n",
      " [5.4 3.7 1.5 0.2]\n",
      " [6.4 3.2 4.5 1.5]\n",
      " [6.5 2.8 4.6 1.5]\n",
      " [6.7 3.3 5.7 2.5]\n",
      " [7.7 3.8 6.7 2.2]\n",
      " [7.2 3.6 6.1 2.5]\n",
      " [6.  2.2 5.  1.5]\n",
      " [4.5 2.3 1.3 0.3]\n",
      " [7.6 3.  6.6 2.1]\n",
      " [6.5 3.  5.5 1.8]\n",
      " [7.2 3.  5.8 1.6]\n",
      " [6.1 2.6 5.6 1.4]\n",
      " [5.1 3.8 1.9 0.4]\n",
      " [5.6 2.5 3.9 1.1]\n",
      " [5.  2.  3.5 1. ]\n",
      " [6.3 3.3 4.7 1.6]\n",
      " [5.7 2.5 5.  2. ]\n",
      " [4.9 3.1 1.5 0.2]\n",
      " [5.5 2.4 3.7 1. ]\n",
      " [6.7 2.5 5.8 1.8]\n",
      " [4.6 3.6 1.  0.2]\n",
      " [5.1 3.5 1.4 0.3]\n",
      " [5.  3.6 1.4 0.2]\n",
      " [6.1 2.9 4.7 1.4]\n",
      " [4.6 3.1 1.5 0.2]\n",
      " [5.4 3.4 1.7 0.2]\n",
      " [6.9 3.1 5.1 2.3]\n",
      " [6.  3.4 4.5 1.6]\n",
      " [4.4 3.  1.3 0.2]\n",
      " [4.9 2.5 4.5 1.7]\n",
      " [7.7 3.  6.1 2.3]\n",
      " [6.3 3.3 6.  2.5]\n",
      " [4.8 3.  1.4 0.3]\n",
      " [5.7 2.6 3.5 1. ]\n",
      " [5.9 3.  4.2 1.5]\n",
      " [6.2 2.2 4.5 1.5]\n",
      " [4.7 3.2 1.3 0.2]\n",
      " [6.4 2.8 5.6 2.1]\n",
      " [5.2 3.5 1.5 0.2]\n",
      " [4.3 3.  1.1 0.1]\n",
      " [6.  2.2 4.  1. ]\n",
      " [6.2 3.4 5.4 2.3]\n",
      " [5.6 3.  4.5 1.5]\n",
      " [5.7 2.8 4.5 1.3]\n",
      " [5.  3.5 1.6 0.6]\n",
      " [5.6 2.9 3.6 1.3]\n",
      " [6.4 2.9 4.3 1.3]\n",
      " [6.1 3.  4.6 1.4]\n",
      " [4.8 3.4 1.9 0.2]\n",
      " [4.9 2.4 3.3 1. ]\n",
      " [7.7 2.6 6.9 2.3]\n",
      " [5.  3.3 1.4 0.2]\n",
      " [5.8 2.7 5.1 1.9]\n",
      " [5.8 2.7 5.1 1.9]\n",
      " [4.9 3.1 1.5 0.1]\n",
      " [5.6 2.8 4.9 2. ]\n",
      " [6.7 3.3 5.7 2.1]\n",
      " [6.3 2.7 4.9 1.8]\n",
      " [5.  3.2 1.2 0.2]\n",
      " [6.9 3.2 5.7 2.3]\n",
      " [6.5 3.  5.8 2.2]\n",
      " [6.7 3.1 4.4 1.4]\n",
      " [4.8 3.1 1.6 0.2]\n",
      " [6.4 3.1 5.5 1.8]\n",
      " [6.8 3.  5.5 2.1]\n",
      " [5.8 2.7 4.1 1. ]\n",
      " [7.9 3.8 6.4 2. ]\n",
      " [6.1 2.8 4.7 1.2]\n",
      " [5.7 4.4 1.5 0.4]\n",
      " [6.7 3.  5.  1.7]\n",
      " [5.8 2.6 4.  1.2]\n",
      " [6.4 2.8 5.6 2.2]\n",
      " [5.2 4.1 1.5 0.1]\n",
      " [5.  3.4 1.6 0.4]\n",
      " [5.5 4.2 1.4 0.2]\n",
      " [5.  3.  1.6 0.2]\n",
      " [5.1 3.5 1.4 0.2]\n",
      " [5.5 3.5 1.3 0.2]\n",
      " [4.4 3.2 1.3 0.2]\n",
      " [5.7 3.8 1.7 0.3]\n",
      " [4.9 3.  1.4 0.2]\n",
      " [6.3 2.8 5.1 1.5]\n",
      " [5.2 3.4 1.4 0.2]\n",
      " [6.5 3.2 5.1 2. ]\n",
      " [5.  2.3 3.3 1. ]\n",
      " [5.5 2.5 4.  1.3]\n",
      " [5.6 3.  4.1 1.3]\n",
      " [5.7 2.9 4.2 1.3]\n",
      " [4.6 3.4 1.4 0.3]\n",
      " [6.6 2.9 4.6 1.3]\n",
      " [6.3 2.3 4.4 1.3]\n",
      " [6.1 2.8 4.  1.3]\n",
      " [6.7 3.1 4.7 1.5]\n",
      " [5.8 4.  1.2 0.2]\n",
      " [6.9 3.1 4.9 1.5]\n",
      " [6.2 2.9 4.3 1.3]\n",
      " [6.8 2.8 4.8 1.4]\n",
      " [7.  3.2 4.7 1.4]\n",
      " [5.5 2.3 4.  1.3]\n",
      " [5.3 3.7 1.5 0.2]]\n"
     ]
    }
   ],
   "source": [
    "import random\n",
    "import numpy as np\n",
    "%matplotlib inline\n",
    "import matplotlib.pyplot as plt\n",
    "from sklearn import datasets #內建資料集\n",
    "def SplitTrainTest(data,label,data_size,train_prop=0.5):\n",
    "    randomize = np.arange(len(data))\n",
    "    np.random.shuffle(randomize)\n",
    "    data=data[randomize]\n",
    "    label=label[randomize]\n",
    "    train_size=int(data_size*train_prop)\n",
    "    return data[:train_size,:],data[train_size:data_size,:],label[:train_size],label[train_size:data_size]\n",
    "iris=datasets.load_iris()\n",
    "data_size=len(iris['data'])\n",
    "Xtrain,Xtest,Ytrain,Ytest=SplitTrainTest(iris['data'],iris['target'],data_size,train_prop=0.7)\n",
    "print(len(Xtrain))\n",
    "print(Xtrain)"
   ]
  },
  {
   "cell_type": "markdown",
   "metadata": {},
   "source": [
    "# 第二題"
   ]
  },
  {
   "cell_type": "code",
   "execution_count": 415,
   "metadata": {},
   "outputs": [],
   "source": [
    "%matplotlib inline\n",
    "import matplotlib.pyplot as plt\n",
    "import numpy as np\n",
    "import pandas as pd"
   ]
  },
  {
   "cell_type": "code",
   "execution_count": 416,
   "metadata": {},
   "outputs": [
    {
     "name": "stdout",
     "output_type": "stream",
     "text": [
      "dataset shape(683, 11)\n"
     ]
    },
    {
     "data": {
      "text/html": [
       "<div>\n",
       "<style scoped>\n",
       "    .dataframe tbody tr th:only-of-type {\n",
       "        vertical-align: middle;\n",
       "    }\n",
       "\n",
       "    .dataframe tbody tr th {\n",
       "        vertical-align: top;\n",
       "    }\n",
       "\n",
       "    .dataframe thead th {\n",
       "        text-align: right;\n",
       "    }\n",
       "</style>\n",
       "<table border=\"1\" class=\"dataframe\">\n",
       "  <thead>\n",
       "    <tr style=\"text-align: right;\">\n",
       "      <th></th>\n",
       "      <th>Sample_code_number</th>\n",
       "      <th>Clump_Thickness</th>\n",
       "      <th>Uniformity_of_Cell_Size</th>\n",
       "      <th>Uniformity_of_Cell_Shape</th>\n",
       "      <th>Marginal_Adhesion</th>\n",
       "      <th>Single_Epithelial_Cell_Size</th>\n",
       "      <th>Bare_Nuclei</th>\n",
       "      <th>Bland_Chromatin</th>\n",
       "      <th>Normal_Nucleoli</th>\n",
       "      <th>Mitoses</th>\n",
       "      <th>Class</th>\n",
       "    </tr>\n",
       "  </thead>\n",
       "  <tbody>\n",
       "    <tr>\n",
       "      <th>0</th>\n",
       "      <td>1000025</td>\n",
       "      <td>5</td>\n",
       "      <td>1</td>\n",
       "      <td>1</td>\n",
       "      <td>1</td>\n",
       "      <td>2</td>\n",
       "      <td>1</td>\n",
       "      <td>3</td>\n",
       "      <td>1</td>\n",
       "      <td>1</td>\n",
       "      <td>2</td>\n",
       "    </tr>\n",
       "    <tr>\n",
       "      <th>1</th>\n",
       "      <td>1002945</td>\n",
       "      <td>5</td>\n",
       "      <td>4</td>\n",
       "      <td>4</td>\n",
       "      <td>5</td>\n",
       "      <td>7</td>\n",
       "      <td>10</td>\n",
       "      <td>3</td>\n",
       "      <td>2</td>\n",
       "      <td>1</td>\n",
       "      <td>2</td>\n",
       "    </tr>\n",
       "    <tr>\n",
       "      <th>2</th>\n",
       "      <td>1015425</td>\n",
       "      <td>3</td>\n",
       "      <td>1</td>\n",
       "      <td>1</td>\n",
       "      <td>1</td>\n",
       "      <td>2</td>\n",
       "      <td>2</td>\n",
       "      <td>3</td>\n",
       "      <td>1</td>\n",
       "      <td>1</td>\n",
       "      <td>2</td>\n",
       "    </tr>\n",
       "    <tr>\n",
       "      <th>3</th>\n",
       "      <td>1016277</td>\n",
       "      <td>6</td>\n",
       "      <td>8</td>\n",
       "      <td>8</td>\n",
       "      <td>1</td>\n",
       "      <td>3</td>\n",
       "      <td>4</td>\n",
       "      <td>3</td>\n",
       "      <td>7</td>\n",
       "      <td>1</td>\n",
       "      <td>2</td>\n",
       "    </tr>\n",
       "    <tr>\n",
       "      <th>4</th>\n",
       "      <td>1017023</td>\n",
       "      <td>4</td>\n",
       "      <td>1</td>\n",
       "      <td>1</td>\n",
       "      <td>3</td>\n",
       "      <td>2</td>\n",
       "      <td>1</td>\n",
       "      <td>3</td>\n",
       "      <td>1</td>\n",
       "      <td>1</td>\n",
       "      <td>2</td>\n",
       "    </tr>\n",
       "  </tbody>\n",
       "</table>\n",
       "</div>"
      ],
      "text/plain": [
       "   Sample_code_number  Clump_Thickness  Uniformity_of_Cell_Size  \\\n",
       "0             1000025                5                        1   \n",
       "1             1002945                5                        4   \n",
       "2             1015425                3                        1   \n",
       "3             1016277                6                        8   \n",
       "4             1017023                4                        1   \n",
       "\n",
       "   Uniformity_of_Cell_Shape  Marginal_Adhesion  Single_Epithelial_Cell_Size  \\\n",
       "0                         1                  1                            2   \n",
       "1                         4                  5                            7   \n",
       "2                         1                  1                            2   \n",
       "3                         8                  1                            3   \n",
       "4                         1                  3                            2   \n",
       "\n",
       "  Bare_Nuclei  Bland_Chromatin  Normal_Nucleoli  Mitoses  Class  \n",
       "0           1                3                1        1      2  \n",
       "1          10                3                2        1      2  \n",
       "2           2                3                1        1      2  \n",
       "3           4                3                7        1      2  \n",
       "4           1                3                1        1      2  "
      ]
     },
     "execution_count": 416,
     "metadata": {},
     "output_type": "execute_result"
    }
   ],
   "source": [
    "data=pd.read_csv('d:/breast-cancer-wisconsin.data',header=None)\n",
    "data.columns=[\"Sample_code_number\",\"Clump_Thickness\",\"Uniformity_of_Cell_Size\",\"Uniformity_of_Cell_Shape\",\n",
    "             \"Marginal_Adhesion\",\"Single_Epithelial_Cell_Size\",\"Bare_Nuclei\",\"Bland_Chromatin\",\n",
    "             \"Normal_Nucleoli\",\"Mitoses\",\"Class\"]\n",
    "data = data[data['Bare_Nuclei'] != \"?\"]  \n",
    "print('dataset shape{}'.format(data.shape))\n",
    "data.head()"
   ]
  },
  {
   "cell_type": "code",
   "execution_count": 417,
   "metadata": {},
   "outputs": [
    {
     "name": "stdout",
     "output_type": "stream",
     "text": [
      "shape of X (683, 9), shape of Y (683,)\n"
     ]
    }
   ],
   "source": [
    "X=data.iloc[:,1:10]\n",
    "Y=data.iloc[:,10]\n",
    "print('shape of X {}, shape of Y {}'.format(X.shape,Y.shape))"
   ]
  },
  {
   "cell_type": "code",
   "execution_count": 418,
   "metadata": {},
   "outputs": [],
   "source": [
    "from sklearn.model_selection import train_test_split\n",
    "X_train,X_test,Y_train,Y_test=train_test_split(X,Y,test_size=0.2,random_state=2)"
   ]
  },
  {
   "cell_type": "code",
   "execution_count": 419,
   "metadata": {},
   "outputs": [
    {
     "data": {
      "text/plain": [
       "KNeighborsClassifier()"
      ]
     },
     "execution_count": 419,
     "metadata": {},
     "output_type": "execute_result"
    }
   ],
   "source": [
    "from sklearn.neighbors import KNeighborsClassifier\n",
    "k=5\n",
    "clf=KNeighborsClassifier(n_neighbors=k)\n",
    "clf.fit(X_train,Y_train)"
   ]
  },
  {
   "cell_type": "code",
   "execution_count": 420,
   "metadata": {},
   "outputs": [
    {
     "name": "stdout",
     "output_type": "stream",
     "text": [
      "train score:0.9835164835164835, test socre:0.9343065693430657\n"
     ]
    }
   ],
   "source": [
    "train_accuracy=clf.score(X_train,Y_train)\n",
    "test_accuracy=clf.score(X_test,Y_test)\n",
    "print(\"train score:{}, test socre:{}\".format(train_accuracy, test_accuracy))"
   ]
  },
  {
   "cell_type": "markdown",
   "metadata": {},
   "source": [
    "# 第三題"
   ]
  },
  {
   "cell_type": "code",
   "execution_count": 421,
   "metadata": {},
   "outputs": [
    {
     "name": "stdout",
     "output_type": "stream",
     "text": [
      "dataset shape(1599, 12)\n"
     ]
    },
    {
     "data": {
      "text/html": [
       "<div>\n",
       "<style scoped>\n",
       "    .dataframe tbody tr th:only-of-type {\n",
       "        vertical-align: middle;\n",
       "    }\n",
       "\n",
       "    .dataframe tbody tr th {\n",
       "        vertical-align: top;\n",
       "    }\n",
       "\n",
       "    .dataframe thead th {\n",
       "        text-align: right;\n",
       "    }\n",
       "</style>\n",
       "<table border=\"1\" class=\"dataframe\">\n",
       "  <thead>\n",
       "    <tr style=\"text-align: right;\">\n",
       "      <th></th>\n",
       "      <th>fixed acidity</th>\n",
       "      <th>volatile acidity</th>\n",
       "      <th>citric acid</th>\n",
       "      <th>residual sugar</th>\n",
       "      <th>chlorides</th>\n",
       "      <th>free sulfur dioxide</th>\n",
       "      <th>total sulfur dioxide</th>\n",
       "      <th>density</th>\n",
       "      <th>pH</th>\n",
       "      <th>sulphates</th>\n",
       "      <th>alcohol</th>\n",
       "      <th>quality</th>\n",
       "    </tr>\n",
       "  </thead>\n",
       "  <tbody>\n",
       "    <tr>\n",
       "      <th>0</th>\n",
       "      <td>7.4</td>\n",
       "      <td>0.70</td>\n",
       "      <td>0.00</td>\n",
       "      <td>1.9</td>\n",
       "      <td>0.076</td>\n",
       "      <td>11.0</td>\n",
       "      <td>34.0</td>\n",
       "      <td>0.9978</td>\n",
       "      <td>3.51</td>\n",
       "      <td>0.56</td>\n",
       "      <td>9.4</td>\n",
       "      <td>5</td>\n",
       "    </tr>\n",
       "    <tr>\n",
       "      <th>1</th>\n",
       "      <td>7.8</td>\n",
       "      <td>0.88</td>\n",
       "      <td>0.00</td>\n",
       "      <td>2.6</td>\n",
       "      <td>0.098</td>\n",
       "      <td>25.0</td>\n",
       "      <td>67.0</td>\n",
       "      <td>0.9968</td>\n",
       "      <td>3.20</td>\n",
       "      <td>0.68</td>\n",
       "      <td>9.8</td>\n",
       "      <td>5</td>\n",
       "    </tr>\n",
       "    <tr>\n",
       "      <th>2</th>\n",
       "      <td>7.8</td>\n",
       "      <td>0.76</td>\n",
       "      <td>0.04</td>\n",
       "      <td>2.3</td>\n",
       "      <td>0.092</td>\n",
       "      <td>15.0</td>\n",
       "      <td>54.0</td>\n",
       "      <td>0.9970</td>\n",
       "      <td>3.26</td>\n",
       "      <td>0.65</td>\n",
       "      <td>9.8</td>\n",
       "      <td>5</td>\n",
       "    </tr>\n",
       "    <tr>\n",
       "      <th>3</th>\n",
       "      <td>11.2</td>\n",
       "      <td>0.28</td>\n",
       "      <td>0.56</td>\n",
       "      <td>1.9</td>\n",
       "      <td>0.075</td>\n",
       "      <td>17.0</td>\n",
       "      <td>60.0</td>\n",
       "      <td>0.9980</td>\n",
       "      <td>3.16</td>\n",
       "      <td>0.58</td>\n",
       "      <td>9.8</td>\n",
       "      <td>6</td>\n",
       "    </tr>\n",
       "    <tr>\n",
       "      <th>4</th>\n",
       "      <td>7.4</td>\n",
       "      <td>0.70</td>\n",
       "      <td>0.00</td>\n",
       "      <td>1.9</td>\n",
       "      <td>0.076</td>\n",
       "      <td>11.0</td>\n",
       "      <td>34.0</td>\n",
       "      <td>0.9978</td>\n",
       "      <td>3.51</td>\n",
       "      <td>0.56</td>\n",
       "      <td>9.4</td>\n",
       "      <td>5</td>\n",
       "    </tr>\n",
       "  </tbody>\n",
       "</table>\n",
       "</div>"
      ],
      "text/plain": [
       "   fixed acidity  volatile acidity  citric acid  residual sugar  chlorides  \\\n",
       "0            7.4              0.70         0.00             1.9      0.076   \n",
       "1            7.8              0.88         0.00             2.6      0.098   \n",
       "2            7.8              0.76         0.04             2.3      0.092   \n",
       "3           11.2              0.28         0.56             1.9      0.075   \n",
       "4            7.4              0.70         0.00             1.9      0.076   \n",
       "\n",
       "   free sulfur dioxide  total sulfur dioxide  density    pH  sulphates  \\\n",
       "0                 11.0                  34.0   0.9978  3.51       0.56   \n",
       "1                 25.0                  67.0   0.9968  3.20       0.68   \n",
       "2                 15.0                  54.0   0.9970  3.26       0.65   \n",
       "3                 17.0                  60.0   0.9980  3.16       0.58   \n",
       "4                 11.0                  34.0   0.9978  3.51       0.56   \n",
       "\n",
       "   alcohol  quality  \n",
       "0      9.4        5  \n",
       "1      9.8        5  \n",
       "2      9.8        5  \n",
       "3      9.8        6  \n",
       "4      9.4        5  "
      ]
     },
     "execution_count": 421,
     "metadata": {},
     "output_type": "execute_result"
    }
   ],
   "source": [
    "%matplotlib inline\n",
    "import matplotlib.pyplot as plt\n",
    "import numpy as np\n",
    "import pandas as pd\n",
    "data=pd.read_csv('d:/winequality-red.csv',sep=\";\")\n",
    "print('dataset shape{}'.format(data.shape))\n",
    "data.head()"
   ]
  },
  {
   "cell_type": "code",
   "execution_count": 422,
   "metadata": {},
   "outputs": [
    {
     "name": "stdout",
     "output_type": "stream",
     "text": [
      "shape of X (1599, 11), shape of Y (1599,)\n"
     ]
    }
   ],
   "source": [
    "X=data.iloc[:,0:11]\n",
    "Y=data.iloc[:,11]\n",
    "print('shape of X {}, shape of Y {}'.format(X.shape,Y.shape))"
   ]
  },
  {
   "cell_type": "code",
   "execution_count": 423,
   "metadata": {},
   "outputs": [],
   "source": [
    "from sklearn.model_selection import train_test_split\n",
    "X_train,X_test,Y_train,Y_test=train_test_split(X,Y,test_size=0.1,random_state=9)"
   ]
  },
  {
   "cell_type": "code",
   "execution_count": 424,
   "metadata": {},
   "outputs": [
    {
     "name": "stdout",
     "output_type": "stream",
     "text": [
      "train_score: 0.725952837707524, test_score: 0.19942253428702672\n"
     ]
    }
   ],
   "source": [
    "from sklearn.metrics import accuracy_score\n",
    "from sklearn.neighbors import KNeighborsRegressor\n",
    "k=2\n",
    "knn=KNeighborsRegressor(k)\n",
    "knn.fit(X_train,Y_train)\n",
    "Y_pred=knn.predict(X_test)\n",
    "train_score=knn.score(X_train,Y_train)\n",
    "test_score =knn.score(X_test,Y_test)\n",
    "print('train_score: {}, test_score: {}'.format(train_score,test_score))"
   ]
  },
  {
   "cell_type": "code",
   "execution_count": 375,
   "metadata": {},
   "outputs": [
    {
     "data": {
      "text/plain": [
       "0.7397245415627014"
      ]
     },
     "execution_count": 375,
     "metadata": {},
     "output_type": "execute_result"
    }
   ],
   "source": [
    "k=2\n",
    "knn=KNeighborsRegressor(k)\n",
    "knn.fit(X,Y)\n",
    "knn.score(X,Y)"
   ]
  },
  {
   "cell_type": "markdown",
   "metadata": {},
   "source": [
    "# 第四題"
   ]
  },
  {
   "cell_type": "code",
   "execution_count": 425,
   "metadata": {},
   "outputs": [
    {
     "name": "stdout",
     "output_type": "stream",
     "text": [
      "dataset shape(1599, 12)\n"
     ]
    },
    {
     "data": {
      "text/html": [
       "<div>\n",
       "<style scoped>\n",
       "    .dataframe tbody tr th:only-of-type {\n",
       "        vertical-align: middle;\n",
       "    }\n",
       "\n",
       "    .dataframe tbody tr th {\n",
       "        vertical-align: top;\n",
       "    }\n",
       "\n",
       "    .dataframe thead th {\n",
       "        text-align: right;\n",
       "    }\n",
       "</style>\n",
       "<table border=\"1\" class=\"dataframe\">\n",
       "  <thead>\n",
       "    <tr style=\"text-align: right;\">\n",
       "      <th></th>\n",
       "      <th>fixed acidity</th>\n",
       "      <th>volatile acidity</th>\n",
       "      <th>citric acid</th>\n",
       "      <th>residual sugar</th>\n",
       "      <th>chlorides</th>\n",
       "      <th>free sulfur dioxide</th>\n",
       "      <th>total sulfur dioxide</th>\n",
       "      <th>density</th>\n",
       "      <th>pH</th>\n",
       "      <th>sulphates</th>\n",
       "      <th>alcohol</th>\n",
       "      <th>quality</th>\n",
       "    </tr>\n",
       "  </thead>\n",
       "  <tbody>\n",
       "    <tr>\n",
       "      <th>0</th>\n",
       "      <td>7.4</td>\n",
       "      <td>0.70</td>\n",
       "      <td>0.00</td>\n",
       "      <td>1.9</td>\n",
       "      <td>0.076</td>\n",
       "      <td>11.0</td>\n",
       "      <td>34.0</td>\n",
       "      <td>0.9978</td>\n",
       "      <td>3.51</td>\n",
       "      <td>0.56</td>\n",
       "      <td>9.4</td>\n",
       "      <td>5</td>\n",
       "    </tr>\n",
       "    <tr>\n",
       "      <th>1</th>\n",
       "      <td>7.8</td>\n",
       "      <td>0.88</td>\n",
       "      <td>0.00</td>\n",
       "      <td>2.6</td>\n",
       "      <td>0.098</td>\n",
       "      <td>25.0</td>\n",
       "      <td>67.0</td>\n",
       "      <td>0.9968</td>\n",
       "      <td>3.20</td>\n",
       "      <td>0.68</td>\n",
       "      <td>9.8</td>\n",
       "      <td>5</td>\n",
       "    </tr>\n",
       "    <tr>\n",
       "      <th>2</th>\n",
       "      <td>7.8</td>\n",
       "      <td>0.76</td>\n",
       "      <td>0.04</td>\n",
       "      <td>2.3</td>\n",
       "      <td>0.092</td>\n",
       "      <td>15.0</td>\n",
       "      <td>54.0</td>\n",
       "      <td>0.9970</td>\n",
       "      <td>3.26</td>\n",
       "      <td>0.65</td>\n",
       "      <td>9.8</td>\n",
       "      <td>5</td>\n",
       "    </tr>\n",
       "    <tr>\n",
       "      <th>3</th>\n",
       "      <td>11.2</td>\n",
       "      <td>0.28</td>\n",
       "      <td>0.56</td>\n",
       "      <td>1.9</td>\n",
       "      <td>0.075</td>\n",
       "      <td>17.0</td>\n",
       "      <td>60.0</td>\n",
       "      <td>0.9980</td>\n",
       "      <td>3.16</td>\n",
       "      <td>0.58</td>\n",
       "      <td>9.8</td>\n",
       "      <td>6</td>\n",
       "    </tr>\n",
       "    <tr>\n",
       "      <th>4</th>\n",
       "      <td>7.4</td>\n",
       "      <td>0.70</td>\n",
       "      <td>0.00</td>\n",
       "      <td>1.9</td>\n",
       "      <td>0.076</td>\n",
       "      <td>11.0</td>\n",
       "      <td>34.0</td>\n",
       "      <td>0.9978</td>\n",
       "      <td>3.51</td>\n",
       "      <td>0.56</td>\n",
       "      <td>9.4</td>\n",
       "      <td>5</td>\n",
       "    </tr>\n",
       "  </tbody>\n",
       "</table>\n",
       "</div>"
      ],
      "text/plain": [
       "   fixed acidity  volatile acidity  citric acid  residual sugar  chlorides  \\\n",
       "0            7.4              0.70         0.00             1.9      0.076   \n",
       "1            7.8              0.88         0.00             2.6      0.098   \n",
       "2            7.8              0.76         0.04             2.3      0.092   \n",
       "3           11.2              0.28         0.56             1.9      0.075   \n",
       "4            7.4              0.70         0.00             1.9      0.076   \n",
       "\n",
       "   free sulfur dioxide  total sulfur dioxide  density    pH  sulphates  \\\n",
       "0                 11.0                  34.0   0.9978  3.51       0.56   \n",
       "1                 25.0                  67.0   0.9968  3.20       0.68   \n",
       "2                 15.0                  54.0   0.9970  3.26       0.65   \n",
       "3                 17.0                  60.0   0.9980  3.16       0.58   \n",
       "4                 11.0                  34.0   0.9978  3.51       0.56   \n",
       "\n",
       "   alcohol  quality  \n",
       "0      9.4        5  \n",
       "1      9.8        5  \n",
       "2      9.8        5  \n",
       "3      9.8        6  \n",
       "4      9.4        5  "
      ]
     },
     "execution_count": 425,
     "metadata": {},
     "output_type": "execute_result"
    }
   ],
   "source": [
    "%matplotlib inline\n",
    "import matplotlib.pyplot as plt\n",
    "import numpy as np\n",
    "import pandas as pd\n",
    "data=pd.read_csv('d:/winequality-red.csv',sep=\";\")\n",
    "print('dataset shape{}'.format(data.shape))\n",
    "data.head()"
   ]
  },
  {
   "cell_type": "code",
   "execution_count": 426,
   "metadata": {},
   "outputs": [],
   "source": [
    "X=data.iloc[:,0:11].values"
   ]
  },
  {
   "cell_type": "code",
   "execution_count": 427,
   "metadata": {},
   "outputs": [
    {
     "name": "stdout",
     "output_type": "stream",
     "text": [
      "kmean: k=3, cost=-395309.18345559767\n"
     ]
    },
    {
     "data": {
      "text/plain": [
       "Text(0, 0.5, 'free sulfur dioxide')"
      ]
     },
     "execution_count": 427,
     "metadata": {},
     "output_type": "execute_result"
    },
    {
     "data": {
      "image/png": "[encoded data removed]",
      "text/plain": [
       "<Figure size 864x576 with 1 Axes>"
      ]
     },
     "metadata": {},
     "output_type": "display_data"
    }
   ],
   "source": [
    "n_clusters=3\n",
    "kmean = KMeans(n_clusters=n_clusters)\n",
    "kmean.fit(X)\n",
    "labels = kmean.labels_\n",
    "centers = kmean.cluster_centers_\n",
    "markers = ['s','p','*','h','+','d','x']\n",
    "colors =['r','b','y','g','c','m','k']\n",
    "print(\"kmean: k={}, cost={}\".format(n_clusters, kmean.score(X)))\n",
    "plt.figure(figsize=(6,4),dpi=144)\n",
    "plt.xticks(())\n",
    "plt.yticks(())\n",
    "\n",
    "for c in range(n_clusters):\n",
    "    cluster = X[labels==c]\n",
    "    plt.scatter(cluster[:,3],cluster[:,5],s=20,marker=markers[c],c=colors[c])\n",
    "plt.scatter(centers[:,3],centers[:,5],s=300,marker='o',c='white',alpha=0.9)\n",
    "for i,c in enumerate(centers):\n",
    "    plt.scatter(c[3],c[5],marker='$%d$'%i, s=50,c=colors[i])\n",
    "plt.xlabel('residual sugar')\n",
    "plt.ylabel('free sulfur dioxide')"
   ]
  },
  {
   "cell_type": "code",
   "execution_count": 379,
   "metadata": {},
   "outputs": [
    {
     "name": "stdout",
     "output_type": "stream",
     "text": [
      "kmean: k=1, cost=-1914079\n",
      "kmean: k=2, cost=-691909\n",
      "kmean: k=3, cost=-395310\n",
      "kmean: k=4, cost=-283159\n",
      "kmean: k=5, cost=-221186\n",
      "kmean: k=6, cost=-177377\n",
      "kmean: k=7, cost=-149847\n",
      "kmean: k=8, cost=-132398\n",
      "kmean: k=9, cost=-116981\n",
      "kmean: k=10, cost=-101682\n",
      "kmean: k=11, cost=-93179\n",
      "kmean: k=12, cost=-85956\n",
      "kmean: k=13, cost=-80333\n",
      "kmean: k=14, cost=-75590\n",
      "kmean: k=15, cost=-70335\n",
      "kmean: k=16, cost=-66866\n",
      "kmean: k=17, cost=-62025\n",
      "kmean: k=18, cost=-57813\n",
      "kmean: k=19, cost=-55055\n",
      "kmean: k=20, cost=-51731\n",
      "-----------------------------\n",
      "best_k: k=20, cost=-51731\n"
     ]
    }
   ],
   "source": [
    "from sklearn.cluster import KMeans\n",
    "best_score=0\n",
    "best_k=0\n",
    "for i in range(1,21):\n",
    "    kmean = KMeans(n_clusters=i)\n",
    "    kmean.fit(X)\n",
    "    score=int(kmean.score(X))\n",
    "    if(i==1):\n",
    "        best_score=score\n",
    "        best_k=1\n",
    "    elif(score>best_score):\n",
    "        best_score=score\n",
    "        best_k=i\n",
    "    print(\"kmean: k={}, cost={}\".format(i, score))\n",
    "print(\"-----------------------------\")\n",
    "print(\"best_k: k={}, cost={}\".format(best_k, best_score))"
   ]
  },
  {
   "cell_type": "markdown",
   "metadata": {},
   "source": [
    "# 第五題"
   ]
  },
  {
   "cell_type": "code",
   "execution_count": 380,
   "metadata": {},
   "outputs": [],
   "source": [
    "%matplotlib inline\n",
    "import matplotlib.pyplot as plt\n",
    "import numpy as np\n",
    "import pandas as pd"
   ]
  },
  {
   "cell_type": "code",
   "execution_count": 381,
   "metadata": {},
   "outputs": [
    {
     "name": "stdout",
     "output_type": "stream",
     "text": [
      "dataset shape(683, 11)\n"
     ]
    },
    {
     "data": {
      "text/html": [
       "<div>\n",
       "<style scoped>\n",
       "    .dataframe tbody tr th:only-of-type {\n",
       "        vertical-align: middle;\n",
       "    }\n",
       "\n",
       "    .dataframe tbody tr th {\n",
       "        vertical-align: top;\n",
       "    }\n",
       "\n",
       "    .dataframe thead th {\n",
       "        text-align: right;\n",
       "    }\n",
       "</style>\n",
       "<table border=\"1\" class=\"dataframe\">\n",
       "  <thead>\n",
       "    <tr style=\"text-align: right;\">\n",
       "      <th></th>\n",
       "      <th>Sample_code_number</th>\n",
       "      <th>Clump_Thickness</th>\n",
       "      <th>Uniformity_of_Cell_Size</th>\n",
       "      <th>Uniformity_of_Cell_Shape</th>\n",
       "      <th>Marginal_Adhesion</th>\n",
       "      <th>Single_Epithelial_Cell_Size</th>\n",
       "      <th>Bare_Nuclei</th>\n",
       "      <th>Bland_Chromatin</th>\n",
       "      <th>Normal_Nucleoli</th>\n",
       "      <th>Mitoses</th>\n",
       "      <th>Class</th>\n",
       "    </tr>\n",
       "  </thead>\n",
       "  <tbody>\n",
       "    <tr>\n",
       "      <th>0</th>\n",
       "      <td>1000025</td>\n",
       "      <td>5</td>\n",
       "      <td>1</td>\n",
       "      <td>1</td>\n",
       "      <td>1</td>\n",
       "      <td>2</td>\n",
       "      <td>1</td>\n",
       "      <td>3</td>\n",
       "      <td>1</td>\n",
       "      <td>1</td>\n",
       "      <td>2</td>\n",
       "    </tr>\n",
       "    <tr>\n",
       "      <th>1</th>\n",
       "      <td>1002945</td>\n",
       "      <td>5</td>\n",
       "      <td>4</td>\n",
       "      <td>4</td>\n",
       "      <td>5</td>\n",
       "      <td>7</td>\n",
       "      <td>10</td>\n",
       "      <td>3</td>\n",
       "      <td>2</td>\n",
       "      <td>1</td>\n",
       "      <td>2</td>\n",
       "    </tr>\n",
       "    <tr>\n",
       "      <th>2</th>\n",
       "      <td>1015425</td>\n",
       "      <td>3</td>\n",
       "      <td>1</td>\n",
       "      <td>1</td>\n",
       "      <td>1</td>\n",
       "      <td>2</td>\n",
       "      <td>2</td>\n",
       "      <td>3</td>\n",
       "      <td>1</td>\n",
       "      <td>1</td>\n",
       "      <td>2</td>\n",
       "    </tr>\n",
       "    <tr>\n",
       "      <th>3</th>\n",
       "      <td>1016277</td>\n",
       "      <td>6</td>\n",
       "      <td>8</td>\n",
       "      <td>8</td>\n",
       "      <td>1</td>\n",
       "      <td>3</td>\n",
       "      <td>4</td>\n",
       "      <td>3</td>\n",
       "      <td>7</td>\n",
       "      <td>1</td>\n",
       "      <td>2</td>\n",
       "    </tr>\n",
       "    <tr>\n",
       "      <th>4</th>\n",
       "      <td>1017023</td>\n",
       "      <td>4</td>\n",
       "      <td>1</td>\n",
       "      <td>1</td>\n",
       "      <td>3</td>\n",
       "      <td>2</td>\n",
       "      <td>1</td>\n",
       "      <td>3</td>\n",
       "      <td>1</td>\n",
       "      <td>1</td>\n",
       "      <td>2</td>\n",
       "    </tr>\n",
       "  </tbody>\n",
       "</table>\n",
       "</div>"
      ],
      "text/plain": [
       "   Sample_code_number  Clump_Thickness  Uniformity_of_Cell_Size  \\\n",
       "0             1000025                5                        1   \n",
       "1             1002945                5                        4   \n",
       "2             1015425                3                        1   \n",
       "3             1016277                6                        8   \n",
       "4             1017023                4                        1   \n",
       "\n",
       "   Uniformity_of_Cell_Shape  Marginal_Adhesion  Single_Epithelial_Cell_Size  \\\n",
       "0                         1                  1                            2   \n",
       "1                         4                  5                            7   \n",
       "2                         1                  1                            2   \n",
       "3                         8                  1                            3   \n",
       "4                         1                  3                            2   \n",
       "\n",
       "  Bare_Nuclei  Bland_Chromatin  Normal_Nucleoli  Mitoses  Class  \n",
       "0           1                3                1        1      2  \n",
       "1          10                3                2        1      2  \n",
       "2           2                3                1        1      2  \n",
       "3           4                3                7        1      2  \n",
       "4           1                3                1        1      2  "
      ]
     },
     "execution_count": 381,
     "metadata": {},
     "output_type": "execute_result"
    }
   ],
   "source": [
    "data=pd.read_csv('d:/breast-cancer-wisconsin.data',header=None)\n",
    "data.columns=[\"Sample_code_number\",\"Clump_Thickness\",\"Uniformity_of_Cell_Size\",\"Uniformity_of_Cell_Shape\",\n",
    "             \"Marginal_Adhesion\",\"Single_Epithelial_Cell_Size\",\"Bare_Nuclei\",\"Bland_Chromatin\",\n",
    "             \"Normal_Nucleoli\",\"Mitoses\",\"Class\"]\n",
    "data = data[data['Bare_Nuclei'] != \"?\"]  \n",
    "print('dataset shape{}'.format(data.shape))\n",
    "data.head()"
   ]
  },
  {
   "cell_type": "code",
   "execution_count": 382,
   "metadata": {},
   "outputs": [],
   "source": [
    "X=data.iloc[:,1:10]\n",
    "Y=data.iloc[:,10]"
   ]
  },
  {
   "cell_type": "code",
   "execution_count": 383,
   "metadata": {},
   "outputs": [],
   "source": [
    "from sklearn.model_selection import train_test_split\n",
    "X_train,X_test,Y_train,Y_test=train_test_split(X,Y,test_size=0.2)"
   ]
  },
  {
   "cell_type": "code",
   "execution_count": 384,
   "metadata": {},
   "outputs": [
    {
     "data": {
      "text/plain": [
       "KNeighborsClassifier()"
      ]
     },
     "execution_count": 384,
     "metadata": {},
     "output_type": "execute_result"
    }
   ],
   "source": [
    "from sklearn.neighbors import KNeighborsClassifier\n",
    "k=5\n",
    "clf=KNeighborsClassifier(n_neighbors=k)\n",
    "clf.fit(X_train,Y_train)"
   ]
  },
  {
   "cell_type": "code",
   "execution_count": 385,
   "metadata": {},
   "outputs": [
    {
     "name": "stdout",
     "output_type": "stream",
     "text": [
      "train score:0.9743589743589743, test socre:0.9635036496350365\n"
     ]
    }
   ],
   "source": [
    "train_accuracy=clf.score(X_train,Y_train)\n",
    "test_accuracy=clf.score(X_test,Y_test)\n",
    "print(\"train score:{}, test socre:{}\".format(train_accuracy, test_accuracy))"
   ]
  },
  {
   "cell_type": "code",
   "execution_count": null,
   "metadata": {},
   "outputs": [],
   "source": []
  },
  {
   "cell_type": "code",
   "execution_count": null,
   "metadata": {},
   "outputs": [],
   "source": []
  }
 ],
 "metadata": {
  "kernelspec": {
   "display_name": "Python 3",
   "language": "python",
   "name": "python3"
  },
  "language_info": {
   "codemirror_mode": {
    "name": "ipython",
    "version": 3
   },
   "file_extension": ".py",
   "mimetype": "text/x-python",
   "name": "python",
   "nbconvert_exporter": "python",
   "pygments_lexer": "ipython3",
   "version": "3.8.5"
  }
 },
 "nbformat": 4,
 "nbformat_minor": 4
}
